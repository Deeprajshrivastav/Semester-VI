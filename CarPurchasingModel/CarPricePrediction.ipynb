{
  "nbformat": 4,
  "nbformat_minor": 0,
  "metadata": {
    "colab": {
      "name": "CarPricePrediction.ipynb",
      "provenance": [],
      "authorship_tag": "ABX9TyONtBqyHXPQArCXAHCpaHRp",
      "include_colab_link": true
    },
    "kernelspec": {
      "name": "python3",
      "display_name": "Python 3"
    },
    "language_info": {
      "name": "python"
    }
  },
  "cells": [
    {
      "cell_type": "markdown",
      "metadata": {
        "id": "view-in-github",
        "colab_type": "text"
      },
      "source": [
        "<a href=\"https://colab.research.google.com/github/Deeprajshrivastav/Semester-VI/blob/main/CarPurchasingModel/CarPricePrediction.ipynb\" target=\"_parent\"><img src=\"https://colab.research.google.com/assets/colab-badge.svg\" alt=\"Open In Colab\"/></a>"
      ]
    },
    {
      "cell_type": "markdown",
      "source": [
        "DatasetName: [Car_Price_Prediction.csv](https://www.kaggle.com/dev0914sharma/car-purchasing-model)\n"
      ],
      "metadata": {
        "id": "IROgZe4gaPBo"
      }
    },
    {
      "cell_type": "code",
      "execution_count": null,
      "metadata": {
        "id": "ZWtgZkLTGVjC"
      },
      "outputs": [],
      "source": [
        "# import all the required library\n",
        "import pandas as pd\n",
        "import numpy as np\n",
        "import matplotlib.pyplot as plt\n",
        "import seaborn as sns\n",
        "from math import sqrt\n",
        "from sklearn.model_selection import train_test_split\n",
        "from sklearn.linear_model import LinearRegression\n",
        "from sklearn.metrics import mean_squared_error\n",
        "import warnings\n",
        "warnings.filterwarnings('ignore')"
      ]
    },
    {
      "cell_type": "code",
      "source": [
        "data = pd.read_csv(\"https://raw.githubusercontent.com/Deeprajshrivastav/Semester-VI/main/CarPurchasingModel/Car_Purchasing_Data.csv\")"
      ],
      "metadata": {
        "id": "uJNP7nu2GcNP"
      },
      "execution_count": null,
      "outputs": []
    },
    {
      "cell_type": "code",
      "source": [
        "data.columns"
      ],
      "metadata": {
        "id": "RwzyDwyuHf9r",
        "colab": {
          "base_uri": "https://localhost:8080/"
        },
        "outputId": "ecbaeace-bbea-447b-8dbb-2cace30f738d"
      },
      "execution_count": null,
      "outputs": [
        {
          "output_type": "execute_result",
          "data": {
            "text/plain": [
              "Index(['Customer Name', 'Customer e-mail', 'Country', 'Gender', 'Age',\n",
              "       'Annual Salary', 'Credit Card Debt', 'Net Worth',\n",
              "       'Car Purchase Amount'],\n",
              "      dtype='object')"
            ]
          },
          "metadata": {},
          "execution_count": 3
        }
      ]
    },
    {
      "cell_type": "code",
      "source": [
        "data.shape"
      ],
      "metadata": {
        "id": "mXOy7N4bIABa",
        "colab": {
          "base_uri": "https://localhost:8080/"
        },
        "outputId": "fd127563-8335-445b-8cc6-e3ba86e78abd"
      },
      "execution_count": null,
      "outputs": [
        {
          "output_type": "execute_result",
          "data": {
            "text/plain": [
              "(500, 9)"
            ]
          },
          "metadata": {},
          "execution_count": 4
        }
      ]
    },
    {
      "cell_type": "code",
      "source": [
        "data.head(5)"
      ],
      "metadata": {
        "id": "E4b2pFEVGfJZ",
        "colab": {
          "base_uri": "https://localhost:8080/",
          "height": 392
        },
        "outputId": "8cf62481-0f74-4f80-8747-bce0e287e4e6"
      },
      "execution_count": null,
      "outputs": [
        {
          "output_type": "execute_result",
          "data": {
            "text/html": [
              "\n",
              "  <div id=\"df-69c96aee-e4d5-464f-b35b-5544b37dc579\">\n",
              "    <div class=\"colab-df-container\">\n",
              "      <div>\n",
              "<style scoped>\n",
              "    .dataframe tbody tr th:only-of-type {\n",
              "        vertical-align: middle;\n",
              "    }\n",
              "\n",
              "    .dataframe tbody tr th {\n",
              "        vertical-align: top;\n",
              "    }\n",
              "\n",
              "    .dataframe thead th {\n",
              "        text-align: right;\n",
              "    }\n",
              "</style>\n",
              "<table border=\"1\" class=\"dataframe\">\n",
              "  <thead>\n",
              "    <tr style=\"text-align: right;\">\n",
              "      <th></th>\n",
              "      <th>Customer Name</th>\n",
              "      <th>Customer e-mail</th>\n",
              "      <th>Country</th>\n",
              "      <th>Gender</th>\n",
              "      <th>Age</th>\n",
              "      <th>Annual Salary</th>\n",
              "      <th>Credit Card Debt</th>\n",
              "      <th>Net Worth</th>\n",
              "      <th>Car Purchase Amount</th>\n",
              "    </tr>\n",
              "  </thead>\n",
              "  <tbody>\n",
              "    <tr>\n",
              "      <th>0</th>\n",
              "      <td>Martina Avila</td>\n",
              "      <td>cubilia.Curae.Phasellus@quisaccumsanconvallis.edu</td>\n",
              "      <td>USA</td>\n",
              "      <td>0</td>\n",
              "      <td>42</td>\n",
              "      <td>62812.09301</td>\n",
              "      <td>11609.380910</td>\n",
              "      <td>238961.2505</td>\n",
              "      <td>35321.45877</td>\n",
              "    </tr>\n",
              "    <tr>\n",
              "      <th>1</th>\n",
              "      <td>Harlan Barnes</td>\n",
              "      <td>eu.dolor@diam.co.uk</td>\n",
              "      <td>USA</td>\n",
              "      <td>0</td>\n",
              "      <td>41</td>\n",
              "      <td>66646.89292</td>\n",
              "      <td>9572.957136</td>\n",
              "      <td>530973.9078</td>\n",
              "      <td>45115.52566</td>\n",
              "    </tr>\n",
              "    <tr>\n",
              "      <th>2</th>\n",
              "      <td>Naomi Rodriquez</td>\n",
              "      <td>vulputate.mauris.sagittis@ametconsectetueradip...</td>\n",
              "      <td>USA</td>\n",
              "      <td>1</td>\n",
              "      <td>43</td>\n",
              "      <td>53798.55112</td>\n",
              "      <td>11160.355060</td>\n",
              "      <td>638467.1773</td>\n",
              "      <td>42925.70921</td>\n",
              "    </tr>\n",
              "    <tr>\n",
              "      <th>3</th>\n",
              "      <td>Jade Cunningham</td>\n",
              "      <td>malesuada@dignissim.com</td>\n",
              "      <td>USA</td>\n",
              "      <td>1</td>\n",
              "      <td>58</td>\n",
              "      <td>79370.03798</td>\n",
              "      <td>14426.164850</td>\n",
              "      <td>548599.0524</td>\n",
              "      <td>67422.36313</td>\n",
              "    </tr>\n",
              "    <tr>\n",
              "      <th>4</th>\n",
              "      <td>Cedric Leach</td>\n",
              "      <td>felis.ullamcorper.viverra@egetmollislectus.net</td>\n",
              "      <td>USA</td>\n",
              "      <td>1</td>\n",
              "      <td>57</td>\n",
              "      <td>59729.15130</td>\n",
              "      <td>5358.712177</td>\n",
              "      <td>560304.0671</td>\n",
              "      <td>55915.46248</td>\n",
              "    </tr>\n",
              "  </tbody>\n",
              "</table>\n",
              "</div>\n",
              "      <button class=\"colab-df-convert\" onclick=\"convertToInteractive('df-69c96aee-e4d5-464f-b35b-5544b37dc579')\"\n",
              "              title=\"Convert this dataframe to an interactive table.\"\n",
              "              style=\"display:none;\">\n",
              "        \n",
              "  <svg xmlns=\"http://www.w3.org/2000/svg\" height=\"24px\"viewBox=\"0 0 24 24\"\n",
              "       width=\"24px\">\n",
              "    <path d=\"M0 0h24v24H0V0z\" fill=\"none\"/>\n",
              "    <path d=\"M18.56 5.44l.94 2.06.94-2.06 2.06-.94-2.06-.94-.94-2.06-.94 2.06-2.06.94zm-11 1L8.5 8.5l.94-2.06 2.06-.94-2.06-.94L8.5 2.5l-.94 2.06-2.06.94zm10 10l.94 2.06.94-2.06 2.06-.94-2.06-.94-.94-2.06-.94 2.06-2.06.94z\"/><path d=\"M17.41 7.96l-1.37-1.37c-.4-.4-.92-.59-1.43-.59-.52 0-1.04.2-1.43.59L10.3 9.45l-7.72 7.72c-.78.78-.78 2.05 0 2.83L4 21.41c.39.39.9.59 1.41.59.51 0 1.02-.2 1.41-.59l7.78-7.78 2.81-2.81c.8-.78.8-2.07 0-2.86zM5.41 20L4 18.59l7.72-7.72 1.47 1.35L5.41 20z\"/>\n",
              "  </svg>\n",
              "      </button>\n",
              "      \n",
              "  <style>\n",
              "    .colab-df-container {\n",
              "      display:flex;\n",
              "      flex-wrap:wrap;\n",
              "      gap: 12px;\n",
              "    }\n",
              "\n",
              "    .colab-df-convert {\n",
              "      background-color: #E8F0FE;\n",
              "      border: none;\n",
              "      border-radius: 50%;\n",
              "      cursor: pointer;\n",
              "      display: none;\n",
              "      fill: #1967D2;\n",
              "      height: 32px;\n",
              "      padding: 0 0 0 0;\n",
              "      width: 32px;\n",
              "    }\n",
              "\n",
              "    .colab-df-convert:hover {\n",
              "      background-color: #E2EBFA;\n",
              "      box-shadow: 0px 1px 2px rgba(60, 64, 67, 0.3), 0px 1px 3px 1px rgba(60, 64, 67, 0.15);\n",
              "      fill: #174EA6;\n",
              "    }\n",
              "\n",
              "    [theme=dark] .colab-df-convert {\n",
              "      background-color: #3B4455;\n",
              "      fill: #D2E3FC;\n",
              "    }\n",
              "\n",
              "    [theme=dark] .colab-df-convert:hover {\n",
              "      background-color: #434B5C;\n",
              "      box-shadow: 0px 1px 3px 1px rgba(0, 0, 0, 0.15);\n",
              "      filter: drop-shadow(0px 1px 2px rgba(0, 0, 0, 0.3));\n",
              "      fill: #FFFFFF;\n",
              "    }\n",
              "  </style>\n",
              "\n",
              "      <script>\n",
              "        const buttonEl =\n",
              "          document.querySelector('#df-69c96aee-e4d5-464f-b35b-5544b37dc579 button.colab-df-convert');\n",
              "        buttonEl.style.display =\n",
              "          google.colab.kernel.accessAllowed ? 'block' : 'none';\n",
              "\n",
              "        async function convertToInteractive(key) {\n",
              "          const element = document.querySelector('#df-69c96aee-e4d5-464f-b35b-5544b37dc579');\n",
              "          const dataTable =\n",
              "            await google.colab.kernel.invokeFunction('convertToInteractive',\n",
              "                                                     [key], {});\n",
              "          if (!dataTable) return;\n",
              "\n",
              "          const docLinkHtml = 'Like what you see? Visit the ' +\n",
              "            '<a target=\"_blank\" href=https://colab.research.google.com/notebooks/data_table.ipynb>data table notebook</a>'\n",
              "            + ' to learn more about interactive tables.';\n",
              "          element.innerHTML = '';\n",
              "          dataTable['output_type'] = 'display_data';\n",
              "          await google.colab.output.renderOutput(dataTable, element);\n",
              "          const docLink = document.createElement('div');\n",
              "          docLink.innerHTML = docLinkHtml;\n",
              "          element.appendChild(docLink);\n",
              "        }\n",
              "      </script>\n",
              "    </div>\n",
              "  </div>\n",
              "  "
            ],
            "text/plain": [
              "     Customer Name  ... Car Purchase Amount\n",
              "0    Martina Avila  ...         35321.45877\n",
              "1    Harlan Barnes  ...         45115.52566\n",
              "2  Naomi Rodriquez  ...         42925.70921\n",
              "3  Jade Cunningham  ...         67422.36313\n",
              "4     Cedric Leach  ...         55915.46248\n",
              "\n",
              "[5 rows x 9 columns]"
            ]
          },
          "metadata": {},
          "execution_count": 5
        }
      ]
    },
    {
      "cell_type": "code",
      "source": [
        "data.sample(5)"
      ],
      "metadata": {
        "id": "ACIPfwKtGodJ",
        "colab": {
          "base_uri": "https://localhost:8080/",
          "height": 374
        },
        "outputId": "4376baaf-2f95-4e17-fb19-63f41585c096"
      },
      "execution_count": null,
      "outputs": [
        {
          "output_type": "execute_result",
          "data": {
            "text/html": [
              "\n",
              "  <div id=\"df-4f20b6e4-ceb0-487e-b772-25e9c1a567c7\">\n",
              "    <div class=\"colab-df-container\">\n",
              "      <div>\n",
              "<style scoped>\n",
              "    .dataframe tbody tr th:only-of-type {\n",
              "        vertical-align: middle;\n",
              "    }\n",
              "\n",
              "    .dataframe tbody tr th {\n",
              "        vertical-align: top;\n",
              "    }\n",
              "\n",
              "    .dataframe thead th {\n",
              "        text-align: right;\n",
              "    }\n",
              "</style>\n",
              "<table border=\"1\" class=\"dataframe\">\n",
              "  <thead>\n",
              "    <tr style=\"text-align: right;\">\n",
              "      <th></th>\n",
              "      <th>Customer Name</th>\n",
              "      <th>Customer e-mail</th>\n",
              "      <th>Country</th>\n",
              "      <th>Gender</th>\n",
              "      <th>Age</th>\n",
              "      <th>Annual Salary</th>\n",
              "      <th>Credit Card Debt</th>\n",
              "      <th>Net Worth</th>\n",
              "      <th>Car Purchase Amount</th>\n",
              "    </tr>\n",
              "  </thead>\n",
              "  <tbody>\n",
              "    <tr>\n",
              "      <th>119</th>\n",
              "      <td>Dean Snider</td>\n",
              "      <td>tempus@sit.ca</td>\n",
              "      <td>USA</td>\n",
              "      <td>0</td>\n",
              "      <td>35</td>\n",
              "      <td>54355.75950</td>\n",
              "      <td>10008.767970</td>\n",
              "      <td>573052.0119</td>\n",
              "      <td>34521.17618</td>\n",
              "    </tr>\n",
              "    <tr>\n",
              "      <th>305</th>\n",
              "      <td>Ashley, Macon Z.</td>\n",
              "      <td>metus.Vivamus.euismod@arcuVivamus.co.uk</td>\n",
              "      <td>USA</td>\n",
              "      <td>1</td>\n",
              "      <td>50</td>\n",
              "      <td>42003.01617</td>\n",
              "      <td>6052.844775</td>\n",
              "      <td>579220.0393</td>\n",
              "      <td>40022.17406</td>\n",
              "    </tr>\n",
              "    <tr>\n",
              "      <th>364</th>\n",
              "      <td>Valdez, Joy U.</td>\n",
              "      <td>lobortis.quam@velarcueu.org</td>\n",
              "      <td>USA</td>\n",
              "      <td>1</td>\n",
              "      <td>43</td>\n",
              "      <td>66813.66400</td>\n",
              "      <td>15458.688670</td>\n",
              "      <td>600685.1915</td>\n",
              "      <td>49065.16340</td>\n",
              "    </tr>\n",
              "    <tr>\n",
              "      <th>459</th>\n",
              "      <td>Kai</td>\n",
              "      <td>velit@molestie.com</td>\n",
              "      <td>USA</td>\n",
              "      <td>0</td>\n",
              "      <td>48</td>\n",
              "      <td>45362.66982</td>\n",
              "      <td>2524.992105</td>\n",
              "      <td>399437.5235</td>\n",
              "      <td>35457.14860</td>\n",
              "    </tr>\n",
              "    <tr>\n",
              "      <th>131</th>\n",
              "      <td>Hector Bowers</td>\n",
              "      <td>eget@Morbiquisurna.co.uk</td>\n",
              "      <td>USA</td>\n",
              "      <td>1</td>\n",
              "      <td>45</td>\n",
              "      <td>60575.12604</td>\n",
              "      <td>8088.344365</td>\n",
              "      <td>291360.0291</td>\n",
              "      <td>38243.66481</td>\n",
              "    </tr>\n",
              "  </tbody>\n",
              "</table>\n",
              "</div>\n",
              "      <button class=\"colab-df-convert\" onclick=\"convertToInteractive('df-4f20b6e4-ceb0-487e-b772-25e9c1a567c7')\"\n",
              "              title=\"Convert this dataframe to an interactive table.\"\n",
              "              style=\"display:none;\">\n",
              "        \n",
              "  <svg xmlns=\"http://www.w3.org/2000/svg\" height=\"24px\"viewBox=\"0 0 24 24\"\n",
              "       width=\"24px\">\n",
              "    <path d=\"M0 0h24v24H0V0z\" fill=\"none\"/>\n",
              "    <path d=\"M18.56 5.44l.94 2.06.94-2.06 2.06-.94-2.06-.94-.94-2.06-.94 2.06-2.06.94zm-11 1L8.5 8.5l.94-2.06 2.06-.94-2.06-.94L8.5 2.5l-.94 2.06-2.06.94zm10 10l.94 2.06.94-2.06 2.06-.94-2.06-.94-.94-2.06-.94 2.06-2.06.94z\"/><path d=\"M17.41 7.96l-1.37-1.37c-.4-.4-.92-.59-1.43-.59-.52 0-1.04.2-1.43.59L10.3 9.45l-7.72 7.72c-.78.78-.78 2.05 0 2.83L4 21.41c.39.39.9.59 1.41.59.51 0 1.02-.2 1.41-.59l7.78-7.78 2.81-2.81c.8-.78.8-2.07 0-2.86zM5.41 20L4 18.59l7.72-7.72 1.47 1.35L5.41 20z\"/>\n",
              "  </svg>\n",
              "      </button>\n",
              "      \n",
              "  <style>\n",
              "    .colab-df-container {\n",
              "      display:flex;\n",
              "      flex-wrap:wrap;\n",
              "      gap: 12px;\n",
              "    }\n",
              "\n",
              "    .colab-df-convert {\n",
              "      background-color: #E8F0FE;\n",
              "      border: none;\n",
              "      border-radius: 50%;\n",
              "      cursor: pointer;\n",
              "      display: none;\n",
              "      fill: #1967D2;\n",
              "      height: 32px;\n",
              "      padding: 0 0 0 0;\n",
              "      width: 32px;\n",
              "    }\n",
              "\n",
              "    .colab-df-convert:hover {\n",
              "      background-color: #E2EBFA;\n",
              "      box-shadow: 0px 1px 2px rgba(60, 64, 67, 0.3), 0px 1px 3px 1px rgba(60, 64, 67, 0.15);\n",
              "      fill: #174EA6;\n",
              "    }\n",
              "\n",
              "    [theme=dark] .colab-df-convert {\n",
              "      background-color: #3B4455;\n",
              "      fill: #D2E3FC;\n",
              "    }\n",
              "\n",
              "    [theme=dark] .colab-df-convert:hover {\n",
              "      background-color: #434B5C;\n",
              "      box-shadow: 0px 1px 3px 1px rgba(0, 0, 0, 0.15);\n",
              "      filter: drop-shadow(0px 1px 2px rgba(0, 0, 0, 0.3));\n",
              "      fill: #FFFFFF;\n",
              "    }\n",
              "  </style>\n",
              "\n",
              "      <script>\n",
              "        const buttonEl =\n",
              "          document.querySelector('#df-4f20b6e4-ceb0-487e-b772-25e9c1a567c7 button.colab-df-convert');\n",
              "        buttonEl.style.display =\n",
              "          google.colab.kernel.accessAllowed ? 'block' : 'none';\n",
              "\n",
              "        async function convertToInteractive(key) {\n",
              "          const element = document.querySelector('#df-4f20b6e4-ceb0-487e-b772-25e9c1a567c7');\n",
              "          const dataTable =\n",
              "            await google.colab.kernel.invokeFunction('convertToInteractive',\n",
              "                                                     [key], {});\n",
              "          if (!dataTable) return;\n",
              "\n",
              "          const docLinkHtml = 'Like what you see? Visit the ' +\n",
              "            '<a target=\"_blank\" href=https://colab.research.google.com/notebooks/data_table.ipynb>data table notebook</a>'\n",
              "            + ' to learn more about interactive tables.';\n",
              "          element.innerHTML = '';\n",
              "          dataTable['output_type'] = 'display_data';\n",
              "          await google.colab.output.renderOutput(dataTable, element);\n",
              "          const docLink = document.createElement('div');\n",
              "          docLink.innerHTML = docLinkHtml;\n",
              "          element.appendChild(docLink);\n",
              "        }\n",
              "      </script>\n",
              "    </div>\n",
              "  </div>\n",
              "  "
            ],
            "text/plain": [
              "        Customer Name  ... Car Purchase Amount\n",
              "119       Dean Snider  ...         34521.17618\n",
              "305  Ashley, Macon Z.  ...         40022.17406\n",
              "364    Valdez, Joy U.  ...         49065.16340\n",
              "459               Kai  ...         35457.14860\n",
              "131     Hector Bowers  ...         38243.66481\n",
              "\n",
              "[5 rows x 9 columns]"
            ]
          },
          "metadata": {},
          "execution_count": 6
        }
      ]
    },
    {
      "cell_type": "code",
      "source": [
        "data.isnull().sum()\n",
        "# conclusion: No Null value present in data"
      ],
      "metadata": {
        "id": "gUyGTZjYGqqr",
        "colab": {
          "base_uri": "https://localhost:8080/"
        },
        "outputId": "1bf74846-8d92-4ae1-92fa-1e7d6ffe7cf6"
      },
      "execution_count": null,
      "outputs": [
        {
          "output_type": "execute_result",
          "data": {
            "text/plain": [
              "Customer Name          0\n",
              "Customer e-mail        0\n",
              "Country                0\n",
              "Gender                 0\n",
              "Age                    0\n",
              "Annual Salary          0\n",
              "Credit Card Debt       0\n",
              "Net Worth              0\n",
              "Car Purchase Amount    0\n",
              "dtype: int64"
            ]
          },
          "metadata": {},
          "execution_count": 7
        }
      ]
    },
    {
      "cell_type": "code",
      "source": [
        "data.describe()"
      ],
      "metadata": {
        "id": "plrAO1ZUGyaU",
        "colab": {
          "base_uri": "https://localhost:8080/",
          "height": 399
        },
        "outputId": "337e68c1-8af8-4750-f52e-f700395e41f0"
      },
      "execution_count": null,
      "outputs": [
        {
          "output_type": "execute_result",
          "data": {
            "text/html": [
              "\n",
              "  <div id=\"df-f8dbbc0e-a6b0-48c0-bb88-273cb066e6e5\">\n",
              "    <div class=\"colab-df-container\">\n",
              "      <div>\n",
              "<style scoped>\n",
              "    .dataframe tbody tr th:only-of-type {\n",
              "        vertical-align: middle;\n",
              "    }\n",
              "\n",
              "    .dataframe tbody tr th {\n",
              "        vertical-align: top;\n",
              "    }\n",
              "\n",
              "    .dataframe thead th {\n",
              "        text-align: right;\n",
              "    }\n",
              "</style>\n",
              "<table border=\"1\" class=\"dataframe\">\n",
              "  <thead>\n",
              "    <tr style=\"text-align: right;\">\n",
              "      <th></th>\n",
              "      <th>Gender</th>\n",
              "      <th>Age</th>\n",
              "      <th>Annual Salary</th>\n",
              "      <th>Credit Card Debt</th>\n",
              "      <th>Net Worth</th>\n",
              "      <th>Car Purchase Amount</th>\n",
              "    </tr>\n",
              "  </thead>\n",
              "  <tbody>\n",
              "    <tr>\n",
              "      <th>count</th>\n",
              "      <td>500.000000</td>\n",
              "      <td>500.000000</td>\n",
              "      <td>500.000000</td>\n",
              "      <td>500.000000</td>\n",
              "      <td>500.000000</td>\n",
              "      <td>500.000000</td>\n",
              "    </tr>\n",
              "    <tr>\n",
              "      <th>mean</th>\n",
              "      <td>0.506000</td>\n",
              "      <td>46.224000</td>\n",
              "      <td>62127.239608</td>\n",
              "      <td>9607.645049</td>\n",
              "      <td>431475.713625</td>\n",
              "      <td>44209.799218</td>\n",
              "    </tr>\n",
              "    <tr>\n",
              "      <th>std</th>\n",
              "      <td>0.500465</td>\n",
              "      <td>7.990339</td>\n",
              "      <td>11703.378228</td>\n",
              "      <td>3489.187973</td>\n",
              "      <td>173536.756340</td>\n",
              "      <td>10773.178744</td>\n",
              "    </tr>\n",
              "    <tr>\n",
              "      <th>min</th>\n",
              "      <td>0.000000</td>\n",
              "      <td>20.000000</td>\n",
              "      <td>20000.000000</td>\n",
              "      <td>100.000000</td>\n",
              "      <td>20000.000000</td>\n",
              "      <td>9000.000000</td>\n",
              "    </tr>\n",
              "    <tr>\n",
              "      <th>25%</th>\n",
              "      <td>0.000000</td>\n",
              "      <td>41.000000</td>\n",
              "      <td>54391.977195</td>\n",
              "      <td>7397.515792</td>\n",
              "      <td>299824.195900</td>\n",
              "      <td>37629.896040</td>\n",
              "    </tr>\n",
              "    <tr>\n",
              "      <th>50%</th>\n",
              "      <td>1.000000</td>\n",
              "      <td>46.000000</td>\n",
              "      <td>62915.497035</td>\n",
              "      <td>9655.035568</td>\n",
              "      <td>426750.120650</td>\n",
              "      <td>43997.783390</td>\n",
              "    </tr>\n",
              "    <tr>\n",
              "      <th>75%</th>\n",
              "      <td>1.000000</td>\n",
              "      <td>52.000000</td>\n",
              "      <td>70117.862005</td>\n",
              "      <td>11798.867487</td>\n",
              "      <td>557324.478725</td>\n",
              "      <td>51254.709517</td>\n",
              "    </tr>\n",
              "    <tr>\n",
              "      <th>max</th>\n",
              "      <td>1.000000</td>\n",
              "      <td>70.000000</td>\n",
              "      <td>100000.000000</td>\n",
              "      <td>20000.000000</td>\n",
              "      <td>1000000.000000</td>\n",
              "      <td>80000.000000</td>\n",
              "    </tr>\n",
              "  </tbody>\n",
              "</table>\n",
              "</div>\n",
              "      <button class=\"colab-df-convert\" onclick=\"convertToInteractive('df-f8dbbc0e-a6b0-48c0-bb88-273cb066e6e5')\"\n",
              "              title=\"Convert this dataframe to an interactive table.\"\n",
              "              style=\"display:none;\">\n",
              "        \n",
              "  <svg xmlns=\"http://www.w3.org/2000/svg\" height=\"24px\"viewBox=\"0 0 24 24\"\n",
              "       width=\"24px\">\n",
              "    <path d=\"M0 0h24v24H0V0z\" fill=\"none\"/>\n",
              "    <path d=\"M18.56 5.44l.94 2.06.94-2.06 2.06-.94-2.06-.94-.94-2.06-.94 2.06-2.06.94zm-11 1L8.5 8.5l.94-2.06 2.06-.94-2.06-.94L8.5 2.5l-.94 2.06-2.06.94zm10 10l.94 2.06.94-2.06 2.06-.94-2.06-.94-.94-2.06-.94 2.06-2.06.94z\"/><path d=\"M17.41 7.96l-1.37-1.37c-.4-.4-.92-.59-1.43-.59-.52 0-1.04.2-1.43.59L10.3 9.45l-7.72 7.72c-.78.78-.78 2.05 0 2.83L4 21.41c.39.39.9.59 1.41.59.51 0 1.02-.2 1.41-.59l7.78-7.78 2.81-2.81c.8-.78.8-2.07 0-2.86zM5.41 20L4 18.59l7.72-7.72 1.47 1.35L5.41 20z\"/>\n",
              "  </svg>\n",
              "      </button>\n",
              "      \n",
              "  <style>\n",
              "    .colab-df-container {\n",
              "      display:flex;\n",
              "      flex-wrap:wrap;\n",
              "      gap: 12px;\n",
              "    }\n",
              "\n",
              "    .colab-df-convert {\n",
              "      background-color: #E8F0FE;\n",
              "      border: none;\n",
              "      border-radius: 50%;\n",
              "      cursor: pointer;\n",
              "      display: none;\n",
              "      fill: #1967D2;\n",
              "      height: 32px;\n",
              "      padding: 0 0 0 0;\n",
              "      width: 32px;\n",
              "    }\n",
              "\n",
              "    .colab-df-convert:hover {\n",
              "      background-color: #E2EBFA;\n",
              "      box-shadow: 0px 1px 2px rgba(60, 64, 67, 0.3), 0px 1px 3px 1px rgba(60, 64, 67, 0.15);\n",
              "      fill: #174EA6;\n",
              "    }\n",
              "\n",
              "    [theme=dark] .colab-df-convert {\n",
              "      background-color: #3B4455;\n",
              "      fill: #D2E3FC;\n",
              "    }\n",
              "\n",
              "    [theme=dark] .colab-df-convert:hover {\n",
              "      background-color: #434B5C;\n",
              "      box-shadow: 0px 1px 3px 1px rgba(0, 0, 0, 0.15);\n",
              "      filter: drop-shadow(0px 1px 2px rgba(0, 0, 0, 0.3));\n",
              "      fill: #FFFFFF;\n",
              "    }\n",
              "  </style>\n",
              "\n",
              "      <script>\n",
              "        const buttonEl =\n",
              "          document.querySelector('#df-f8dbbc0e-a6b0-48c0-bb88-273cb066e6e5 button.colab-df-convert');\n",
              "        buttonEl.style.display =\n",
              "          google.colab.kernel.accessAllowed ? 'block' : 'none';\n",
              "\n",
              "        async function convertToInteractive(key) {\n",
              "          const element = document.querySelector('#df-f8dbbc0e-a6b0-48c0-bb88-273cb066e6e5');\n",
              "          const dataTable =\n",
              "            await google.colab.kernel.invokeFunction('convertToInteractive',\n",
              "                                                     [key], {});\n",
              "          if (!dataTable) return;\n",
              "\n",
              "          const docLinkHtml = 'Like what you see? Visit the ' +\n",
              "            '<a target=\"_blank\" href=https://colab.research.google.com/notebooks/data_table.ipynb>data table notebook</a>'\n",
              "            + ' to learn more about interactive tables.';\n",
              "          element.innerHTML = '';\n",
              "          dataTable['output_type'] = 'display_data';\n",
              "          await google.colab.output.renderOutput(dataTable, element);\n",
              "          const docLink = document.createElement('div');\n",
              "          docLink.innerHTML = docLinkHtml;\n",
              "          element.appendChild(docLink);\n",
              "        }\n",
              "      </script>\n",
              "    </div>\n",
              "  </div>\n",
              "  "
            ],
            "text/plain": [
              "           Gender         Age  ...       Net Worth  Car Purchase Amount\n",
              "count  500.000000  500.000000  ...      500.000000           500.000000\n",
              "mean     0.506000   46.224000  ...   431475.713625         44209.799218\n",
              "std      0.500465    7.990339  ...   173536.756340         10773.178744\n",
              "min      0.000000   20.000000  ...    20000.000000          9000.000000\n",
              "25%      0.000000   41.000000  ...   299824.195900         37629.896040\n",
              "50%      1.000000   46.000000  ...   426750.120650         43997.783390\n",
              "75%      1.000000   52.000000  ...   557324.478725         51254.709517\n",
              "max      1.000000   70.000000  ...  1000000.000000         80000.000000\n",
              "\n",
              "[8 rows x 6 columns]"
            ]
          },
          "metadata": {},
          "execution_count": 8
        }
      ]
    },
    {
      "cell_type": "code",
      "source": [
        "len(data['Customer Name'].unique())\n",
        "# Unique value in 'Customer Name' is 498"
      ],
      "metadata": {
        "id": "0tqCizM_HH7u",
        "colab": {
          "base_uri": "https://localhost:8080/"
        },
        "outputId": "934b538b-4bc8-40ed-94b9-c21d86fafe0f"
      },
      "execution_count": null,
      "outputs": [
        {
          "output_type": "execute_result",
          "data": {
            "text/plain": [
              "498"
            ]
          },
          "metadata": {},
          "execution_count": 9
        }
      ]
    },
    {
      "cell_type": "code",
      "source": [
        "len(data['Customer e-mail'].unique())\n",
        "# Unique value in 'Customer e-mail' is 500"
      ],
      "metadata": {
        "id": "1t4y0G3qHL3o",
        "colab": {
          "base_uri": "https://localhost:8080/"
        },
        "outputId": "7cb0569e-f4cd-4b95-8047-16afc22e8b75"
      },
      "execution_count": null,
      "outputs": [
        {
          "output_type": "execute_result",
          "data": {
            "text/plain": [
              "500"
            ]
          },
          "metadata": {},
          "execution_count": 10
        }
      ]
    },
    {
      "cell_type": "code",
      "source": [
        "len(data['Country'].unique())\n",
        "# conclusion: Country has only one unique value"
      ],
      "metadata": {
        "id": "Nkc5SnM7ITd3",
        "colab": {
          "base_uri": "https://localhost:8080/"
        },
        "outputId": "3878f144-e7bf-46ac-9465-b91ce9688f7d"
      },
      "execution_count": null,
      "outputs": [
        {
          "output_type": "execute_result",
          "data": {
            "text/plain": [
              "1"
            ]
          },
          "metadata": {},
          "execution_count": 11
        }
      ]
    },
    {
      "cell_type": "code",
      "source": [
        "# Drop non usable variable(Customer Name, Customer e-mail, Country)\n",
        "data.drop(['Customer Name', 'Customer e-mail', 'Country'], axis=1, inplace=True)\n",
        "\n",
        "# After drop the columns\n",
        "data.sample(5)"
      ],
      "metadata": {
        "id": "_gdKute3IcQH",
        "colab": {
          "base_uri": "https://localhost:8080/",
          "height": 305
        },
        "outputId": "64c70a14-e2f6-42e5-82e0-7eb3b026d178"
      },
      "execution_count": null,
      "outputs": [
        {
          "output_type": "execute_result",
          "data": {
            "text/html": [
              "\n",
              "  <div id=\"df-7e4bd6fb-2ed7-45ee-863e-5f2acd0fb37c\">\n",
              "    <div class=\"colab-df-container\">\n",
              "      <div>\n",
              "<style scoped>\n",
              "    .dataframe tbody tr th:only-of-type {\n",
              "        vertical-align: middle;\n",
              "    }\n",
              "\n",
              "    .dataframe tbody tr th {\n",
              "        vertical-align: top;\n",
              "    }\n",
              "\n",
              "    .dataframe thead th {\n",
              "        text-align: right;\n",
              "    }\n",
              "</style>\n",
              "<table border=\"1\" class=\"dataframe\">\n",
              "  <thead>\n",
              "    <tr style=\"text-align: right;\">\n",
              "      <th></th>\n",
              "      <th>Gender</th>\n",
              "      <th>Age</th>\n",
              "      <th>Annual Salary</th>\n",
              "      <th>Credit Card Debt</th>\n",
              "      <th>Net Worth</th>\n",
              "      <th>Car Purchase Amount</th>\n",
              "    </tr>\n",
              "  </thead>\n",
              "  <tbody>\n",
              "    <tr>\n",
              "      <th>180</th>\n",
              "      <td>1</td>\n",
              "      <td>50</td>\n",
              "      <td>57770.36488</td>\n",
              "      <td>8628.434025</td>\n",
              "      <td>211765.2494</td>\n",
              "      <td>38763.11306</td>\n",
              "    </tr>\n",
              "    <tr>\n",
              "      <th>164</th>\n",
              "      <td>0</td>\n",
              "      <td>47</td>\n",
              "      <td>57860.53103</td>\n",
              "      <td>7146.192574</td>\n",
              "      <td>445745.5544</td>\n",
              "      <td>42484.02283</td>\n",
              "    </tr>\n",
              "    <tr>\n",
              "      <th>102</th>\n",
              "      <td>1</td>\n",
              "      <td>30</td>\n",
              "      <td>68289.18229</td>\n",
              "      <td>7357.787011</td>\n",
              "      <td>404457.3099</td>\n",
              "      <td>33640.73697</td>\n",
              "    </tr>\n",
              "    <tr>\n",
              "      <th>63</th>\n",
              "      <td>0</td>\n",
              "      <td>53</td>\n",
              "      <td>54006.77851</td>\n",
              "      <td>15189.088450</td>\n",
              "      <td>246321.8916</td>\n",
              "      <td>40093.61981</td>\n",
              "    </tr>\n",
              "    <tr>\n",
              "      <th>234</th>\n",
              "      <td>1</td>\n",
              "      <td>39</td>\n",
              "      <td>55285.98625</td>\n",
              "      <td>17462.075060</td>\n",
              "      <td>734443.6969</td>\n",
              "      <td>42990.29255</td>\n",
              "    </tr>\n",
              "  </tbody>\n",
              "</table>\n",
              "</div>\n",
              "      <button class=\"colab-df-convert\" onclick=\"convertToInteractive('df-7e4bd6fb-2ed7-45ee-863e-5f2acd0fb37c')\"\n",
              "              title=\"Convert this dataframe to an interactive table.\"\n",
              "              style=\"display:none;\">\n",
              "        \n",
              "  <svg xmlns=\"http://www.w3.org/2000/svg\" height=\"24px\"viewBox=\"0 0 24 24\"\n",
              "       width=\"24px\">\n",
              "    <path d=\"M0 0h24v24H0V0z\" fill=\"none\"/>\n",
              "    <path d=\"M18.56 5.44l.94 2.06.94-2.06 2.06-.94-2.06-.94-.94-2.06-.94 2.06-2.06.94zm-11 1L8.5 8.5l.94-2.06 2.06-.94-2.06-.94L8.5 2.5l-.94 2.06-2.06.94zm10 10l.94 2.06.94-2.06 2.06-.94-2.06-.94-.94-2.06-.94 2.06-2.06.94z\"/><path d=\"M17.41 7.96l-1.37-1.37c-.4-.4-.92-.59-1.43-.59-.52 0-1.04.2-1.43.59L10.3 9.45l-7.72 7.72c-.78.78-.78 2.05 0 2.83L4 21.41c.39.39.9.59 1.41.59.51 0 1.02-.2 1.41-.59l7.78-7.78 2.81-2.81c.8-.78.8-2.07 0-2.86zM5.41 20L4 18.59l7.72-7.72 1.47 1.35L5.41 20z\"/>\n",
              "  </svg>\n",
              "      </button>\n",
              "      \n",
              "  <style>\n",
              "    .colab-df-container {\n",
              "      display:flex;\n",
              "      flex-wrap:wrap;\n",
              "      gap: 12px;\n",
              "    }\n",
              "\n",
              "    .colab-df-convert {\n",
              "      background-color: #E8F0FE;\n",
              "      border: none;\n",
              "      border-radius: 50%;\n",
              "      cursor: pointer;\n",
              "      display: none;\n",
              "      fill: #1967D2;\n",
              "      height: 32px;\n",
              "      padding: 0 0 0 0;\n",
              "      width: 32px;\n",
              "    }\n",
              "\n",
              "    .colab-df-convert:hover {\n",
              "      background-color: #E2EBFA;\n",
              "      box-shadow: 0px 1px 2px rgba(60, 64, 67, 0.3), 0px 1px 3px 1px rgba(60, 64, 67, 0.15);\n",
              "      fill: #174EA6;\n",
              "    }\n",
              "\n",
              "    [theme=dark] .colab-df-convert {\n",
              "      background-color: #3B4455;\n",
              "      fill: #D2E3FC;\n",
              "    }\n",
              "\n",
              "    [theme=dark] .colab-df-convert:hover {\n",
              "      background-color: #434B5C;\n",
              "      box-shadow: 0px 1px 3px 1px rgba(0, 0, 0, 0.15);\n",
              "      filter: drop-shadow(0px 1px 2px rgba(0, 0, 0, 0.3));\n",
              "      fill: #FFFFFF;\n",
              "    }\n",
              "  </style>\n",
              "\n",
              "      <script>\n",
              "        const buttonEl =\n",
              "          document.querySelector('#df-7e4bd6fb-2ed7-45ee-863e-5f2acd0fb37c button.colab-df-convert');\n",
              "        buttonEl.style.display =\n",
              "          google.colab.kernel.accessAllowed ? 'block' : 'none';\n",
              "\n",
              "        async function convertToInteractive(key) {\n",
              "          const element = document.querySelector('#df-7e4bd6fb-2ed7-45ee-863e-5f2acd0fb37c');\n",
              "          const dataTable =\n",
              "            await google.colab.kernel.invokeFunction('convertToInteractive',\n",
              "                                                     [key], {});\n",
              "          if (!dataTable) return;\n",
              "\n",
              "          const docLinkHtml = 'Like what you see? Visit the ' +\n",
              "            '<a target=\"_blank\" href=https://colab.research.google.com/notebooks/data_table.ipynb>data table notebook</a>'\n",
              "            + ' to learn more about interactive tables.';\n",
              "          element.innerHTML = '';\n",
              "          dataTable['output_type'] = 'display_data';\n",
              "          await google.colab.output.renderOutput(dataTable, element);\n",
              "          const docLink = document.createElement('div');\n",
              "          docLink.innerHTML = docLinkHtml;\n",
              "          element.appendChild(docLink);\n",
              "        }\n",
              "      </script>\n",
              "    </div>\n",
              "  </div>\n",
              "  "
            ],
            "text/plain": [
              "     Gender  Age  ...    Net Worth  Car Purchase Amount\n",
              "180       1   50  ...  211765.2494          38763.11306\n",
              "164       0   47  ...  445745.5544          42484.02283\n",
              "102       1   30  ...  404457.3099          33640.73697\n",
              "63        0   53  ...  246321.8916          40093.61981\n",
              "234       1   39  ...  734443.6969          42990.29255\n",
              "\n",
              "[5 rows x 6 columns]"
            ]
          },
          "metadata": {},
          "execution_count": 12
        }
      ]
    },
    {
      "cell_type": "code",
      "source": [
        "# count plot Gender columns\n",
        "sns.countplot(data['Gender'])\n",
        "print(\"Number of Female: \", data[data.Gender==0].shape[0])\n",
        "print(\"Number of Male: \", data[data.Gender==1].shape[0])"
      ],
      "metadata": {
        "id": "ywimRDxEJ_Qr",
        "colab": {
          "base_uri": "https://localhost:8080/",
          "height": 89
        },
        "outputId": "7c396620-7ba5-49ec-c90f-64f908ee0cf7"
      },
      "execution_count": null,
      "outputs": [
        {
          "output_type": "stream",
          "name": "stdout",
          "text": [
            "Number of Female:  247\n",
            "Number of Male:  253\n"
          ]
        },
        {
          "output_type": "display_data",
          "data": {
            "image/png": "[encoded data removed]",
            "text/plain": [
              "<Figure size 432x288 with 1 Axes>"
            ]
          },
          "metadata": {
            "needs_background": "light"
          }
        }
      ]
    },
    {
      "cell_type": "code",
      "source": [
        "print(\"Mean age of Female: \", data[data['Gender']==0][\"Age\"].mean())\n",
        "print(\"Mean age of Male: \", data[data['Gender']==1][\"Age\"].mean())"
      ],
      "metadata": {
        "id": "HDTbrjkvJIq0",
        "colab": {
          "base_uri": "https://localhost:8080/"
        },
        "outputId": "ee724149-11d8-41e7-cdce-5c7391d1d731"
      },
      "execution_count": null,
      "outputs": [
        {
          "output_type": "stream",
          "name": "stdout",
          "text": [
            "Mean age of Female:  46.76113360323887\n",
            "Mean age of Male:  45.69960474308301\n"
          ]
        }
      ]
    },
    {
      "cell_type": "code",
      "source": [
        "print(\"Mean Annual Salary of Female: \", data[data['Gender']==0][\"Annual Salary\"].mean())\n",
        "print(\"Mean Annual Salary of Male: \", data[data['Gender']==1][\"Annual Salary\"].mean())"
      ],
      "metadata": {
        "id": "5McZG_RNJpGh",
        "colab": {
          "base_uri": "https://localhost:8080/"
        },
        "outputId": "d9612c32-b222-4f8f-c5bc-d4dd60f52dc2"
      },
      "execution_count": null,
      "outputs": [
        {
          "output_type": "stream",
          "name": "stdout",
          "text": [
            "Mean Annual Salary of Female:  62559.12831267206\n",
            "Mean Annual Salary of Male:  61705.59332233203\n"
          ]
        }
      ]
    },
    {
      "cell_type": "markdown",
      "source": [
        "### Correlation HeatMap"
      ],
      "metadata": {
        "id": "NBpX6cBSbNs3"
      }
    },
    {
      "cell_type": "code",
      "source": [
        "sns.set(rc={'figure.figsize':(17, 11)})\n",
        "\n",
        "# Correlation Heatmap\n",
        "sns.heatmap(data.corr(), cmap=\"coolwarm\", annot=True, linewidths=3)\n",
        "# conclusion: Most important variable to predict car purchase amount: 'Age', 'Annual Salary'\n",
        "# conclusion: Less important variable to predict car purchase amount:  'Gender"
      ],
      "metadata": {
        "id": "tJDnEyGaJ2IY",
        "colab": {
          "base_uri": "https://localhost:8080/"
        },
        "outputId": "3f54f945-b212-4eef-e1a5-a9dbe5420798"
      },
      "execution_count": null,
      "outputs": [
        {
          "output_type": "execute_result",
          "data": {
            "text/plain": [
              "<matplotlib.axes._subplots.AxesSubplot at 0x7f1d5dd092d0>"
            ]
          },
          "metadata": {},
          "execution_count": 16
        },
        {
          "output_type": "display_data",
          "data": {
            "image/png": "[encoded data removed]",
            "text/plain": [
              "<Figure size 1224x792 with 2 Axes>"
            ]
          },
          "metadata": {}
        }
      ]
    },
    {
      "cell_type": "code",
      "source": [
        "sns.set(rc={'figure.figsize':(10, 6)})\n",
        "sns.distplot(data['Age'], kde = True, color ='blue', bins = 30)"
      ],
      "metadata": {
        "id": "9ovG8JiVO2nh",
        "colab": {
          "base_uri": "https://localhost:8080/"
        },
        "outputId": "94a74383-5b93-4468-ef0c-0e8868e9d3a9"
      },
      "execution_count": null,
      "outputs": [
        {
          "output_type": "execute_result",
          "data": {
            "text/plain": [
              "<matplotlib.axes._subplots.AxesSubplot at 0x7f1d557e6890>"
            ]
          },
          "metadata": {},
          "execution_count": 17
        },
        {
          "output_type": "display_data",
          "data": {
            "image/png": "[encoded data removed]",
            "text/plain": [
              "<Figure size 720x432 with 1 Axes>"
            ]
          },
          "metadata": {}
        }
      ]
    },
    {
      "cell_type": "code",
      "source": [
        "fig, axs = plt.subplots(2,2, figsize = (22,11))\n",
        "plt1 = sns.boxplot(data['Car Purchase Amount'], ax = axs[0,0])\n",
        "plt2 = sns.boxplot(data['Annual Salary'], ax = axs[0,1])\n",
        "plt3 = sns.boxplot(data['Credit Card Debt'], ax = axs[1,0])\n",
        "plt4 = sns.boxplot(data['Net Worth'], ax = axs[1,1])\n",
        "\n",
        "# conclusion: \n",
        "# 1. In Age: 4 outlier present\n",
        "# 2. In Annual Salary: 2 outlier present\n",
        "# 3. Credit Card Debt: 5 outlier present\n",
        "# 4. Net Worth: 1 outlier present"
      ],
      "metadata": {
        "id": "mAPGZE0ILdhA",
        "colab": {
          "base_uri": "https://localhost:8080/"
        },
        "outputId": "3bb9b55f-8f56-4b2f-d1ce-b5c520d880e8"
      },
      "execution_count": null,
      "outputs": [
        {
          "output_type": "display_data",
          "data": {
            "image/png": "[encoded data removed]",
            "text/plain": [
              "<Figure size 1584x792 with 4 Axes>"
            ]
          },
          "metadata": {}
        }
      ]
    },
    {
      "cell_type": "markdown",
      "source": [
        "## Outlier Treatment\n",
        "\n",
        "Outlier: \n",
        " \n",
        "\n",
        "*   An outlier is a data point in a data set that is distant from all other.\n",
        "*   A data point that lies outside the overall distribution of dataset\n",
        "\n",
        "**Step to identify Outlier**  <br>\n",
        "\n",
        "\n",
        "*   Step1: calculate the 1st and 3rd quartiles(Q1, Q3)\n",
        "*   Step2: compute IQR=Q3-Q1\n",
        "*   Step3: compute lower bound = (Q1–1.5*IQR), upper bound = (Q3+1.5*IQR)\n",
        "*   Step4: If datapoint is less than lowerBound and greater than upperBound is outlier\n",
        "\n",
        "**we can also identify outlier with BoxPlot**\n",
        "<br><br>\n",
        "**Method of outlier treatment**\n",
        "\n",
        "\n",
        "\n",
        "*   if data point is less than lowerBound then replace with lowerBound.\n",
        "*   if data point is greater than UpperBound then replace with UpperBound.\n",
        "\n",
        "\n",
        "\n",
        "\n",
        "<br><br><br>\n",
        "\n",
        "### For Age"
      ],
      "metadata": {
        "id": "ITdYJh9BbdWk"
      }
    },
    {
      "cell_type": "code",
      "source": [
        "# Outlier TreatMent For age\n",
        "Q3 = data.Age.quantile(0.75)          # 75 Quantile radius_se data   \n",
        "Q1 = data.Age.quantile(0.25)          # 25 Quantile radius_se data\n",
        "\n",
        "IQR = Q3 - Q1\n",
        "\n",
        "# lowerBound = (Q1–1.5*IQR)\n",
        "lowerBound = Q1 - 1.5 * IQR\n",
        "\n",
        "# upperBound = (Q3+1.5*IQR)\n",
        "upperBound = Q3+1.5*IQR\n",
        "\n",
        "lowerBoundData = data['Age'] < lowerBound\n",
        "upperBoundData = data['Age'] > upperBound\n",
        "\n",
        "print(\"Outlier in age Column: \")\n",
        "data[(lowerBound > data[\"Age\"]) | (data[\"Age\"] > upperBound)]"
      ],
      "metadata": {
        "id": "CgOMo7GyNH-J",
        "colab": {
          "base_uri": "https://localhost:8080/"
        },
        "outputId": "3737ff85-6655-4dc8-8e2b-7c21fee083a4"
      },
      "execution_count": null,
      "outputs": [
        {
          "output_type": "stream",
          "name": "stdout",
          "text": [
            "Outlier in age Column: \n"
          ]
        },
        {
          "output_type": "execute_result",
          "data": {
            "text/html": [
              "\n",
              "  <div id=\"df-557d944b-8587-4e35-a3f1-793a5a007991\">\n",
              "    <div class=\"colab-df-container\">\n",
              "      <div>\n",
              "<style scoped>\n",
              "    .dataframe tbody tr th:only-of-type {\n",
              "        vertical-align: middle;\n",
              "    }\n",
              "\n",
              "    .dataframe tbody tr th {\n",
              "        vertical-align: top;\n",
              "    }\n",
              "\n",
              "    .dataframe thead th {\n",
              "        text-align: right;\n",
              "    }\n",
              "</style>\n",
              "<table border=\"1\" class=\"dataframe\">\n",
              "  <thead>\n",
              "    <tr style=\"text-align: right;\">\n",
              "      <th></th>\n",
              "      <th>Gender</th>\n",
              "      <th>Age</th>\n",
              "      <th>Annual Salary</th>\n",
              "      <th>Credit Card Debt</th>\n",
              "      <th>Net Worth</th>\n",
              "      <th>Car Purchase Amount</th>\n",
              "    </tr>\n",
              "  </thead>\n",
              "  <tbody>\n",
              "    <tr>\n",
              "      <th>37</th>\n",
              "      <td>1</td>\n",
              "      <td>22</td>\n",
              "      <td>43131.78411</td>\n",
              "      <td>10917.140940</td>\n",
              "      <td>326742.7352</td>\n",
              "      <td>10092.22509</td>\n",
              "    </tr>\n",
              "    <tr>\n",
              "      <th>194</th>\n",
              "      <td>0</td>\n",
              "      <td>70</td>\n",
              "      <td>52323.24480</td>\n",
              "      <td>12438.856480</td>\n",
              "      <td>346555.1716</td>\n",
              "      <td>56229.41270</td>\n",
              "    </tr>\n",
              "    <tr>\n",
              "      <th>236</th>\n",
              "      <td>1</td>\n",
              "      <td>70</td>\n",
              "      <td>41434.51258</td>\n",
              "      <td>6810.555606</td>\n",
              "      <td>252220.2937</td>\n",
              "      <td>47009.57741</td>\n",
              "    </tr>\n",
              "    <tr>\n",
              "      <th>444</th>\n",
              "      <td>1</td>\n",
              "      <td>20</td>\n",
              "      <td>70467.29492</td>\n",
              "      <td>100.000000</td>\n",
              "      <td>494606.6334</td>\n",
              "      <td>28645.39425</td>\n",
              "    </tr>\n",
              "  </tbody>\n",
              "</table>\n",
              "</div>\n",
              "      <button class=\"colab-df-convert\" onclick=\"convertToInteractive('df-557d944b-8587-4e35-a3f1-793a5a007991')\"\n",
              "              title=\"Convert this dataframe to an interactive table.\"\n",
              "              style=\"display:none;\">\n",
              "        \n",
              "  <svg xmlns=\"http://www.w3.org/2000/svg\" height=\"24px\"viewBox=\"0 0 24 24\"\n",
              "       width=\"24px\">\n",
              "    <path d=\"M0 0h24v24H0V0z\" fill=\"none\"/>\n",
              "    <path d=\"M18.56 5.44l.94 2.06.94-2.06 2.06-.94-2.06-.94-.94-2.06-.94 2.06-2.06.94zm-11 1L8.5 8.5l.94-2.06 2.06-.94-2.06-.94L8.5 2.5l-.94 2.06-2.06.94zm10 10l.94 2.06.94-2.06 2.06-.94-2.06-.94-.94-2.06-.94 2.06-2.06.94z\"/><path d=\"M17.41 7.96l-1.37-1.37c-.4-.4-.92-.59-1.43-.59-.52 0-1.04.2-1.43.59L10.3 9.45l-7.72 7.72c-.78.78-.78 2.05 0 2.83L4 21.41c.39.39.9.59 1.41.59.51 0 1.02-.2 1.41-.59l7.78-7.78 2.81-2.81c.8-.78.8-2.07 0-2.86zM5.41 20L4 18.59l7.72-7.72 1.47 1.35L5.41 20z\"/>\n",
              "  </svg>\n",
              "      </button>\n",
              "      \n",
              "  <style>\n",
              "    .colab-df-container {\n",
              "      display:flex;\n",
              "      flex-wrap:wrap;\n",
              "      gap: 12px;\n",
              "    }\n",
              "\n",
              "    .colab-df-convert {\n",
              "      background-color: #E8F0FE;\n",
              "      border: none;\n",
              "      border-radius: 50%;\n",
              "      cursor: pointer;\n",
              "      display: none;\n",
              "      fill: #1967D2;\n",
              "      height: 32px;\n",
              "      padding: 0 0 0 0;\n",
              "      width: 32px;\n",
              "    }\n",
              "\n",
              "    .colab-df-convert:hover {\n",
              "      background-color: #E2EBFA;\n",
              "      box-shadow: 0px 1px 2px rgba(60, 64, 67, 0.3), 0px 1px 3px 1px rgba(60, 64, 67, 0.15);\n",
              "      fill: #174EA6;\n",
              "    }\n",
              "\n",
              "    [theme=dark] .colab-df-convert {\n",
              "      background-color: #3B4455;\n",
              "      fill: #D2E3FC;\n",
              "    }\n",
              "\n",
              "    [theme=dark] .colab-df-convert:hover {\n",
              "      background-color: #434B5C;\n",
              "      box-shadow: 0px 1px 3px 1px rgba(0, 0, 0, 0.15);\n",
              "      filter: drop-shadow(0px 1px 2px rgba(0, 0, 0, 0.3));\n",
              "      fill: #FFFFFF;\n",
              "    }\n",
              "  </style>\n",
              "\n",
              "      <script>\n",
              "        const buttonEl =\n",
              "          document.querySelector('#df-557d944b-8587-4e35-a3f1-793a5a007991 button.colab-df-convert');\n",
              "        buttonEl.style.display =\n",
              "          google.colab.kernel.accessAllowed ? 'block' : 'none';\n",
              "\n",
              "        async function convertToInteractive(key) {\n",
              "          const element = document.querySelector('#df-557d944b-8587-4e35-a3f1-793a5a007991');\n",
              "          const dataTable =\n",
              "            await google.colab.kernel.invokeFunction('convertToInteractive',\n",
              "                                                     [key], {});\n",
              "          if (!dataTable) return;\n",
              "\n",
              "          const docLinkHtml = 'Like what you see? Visit the ' +\n",
              "            '<a target=\"_blank\" href=https://colab.research.google.com/notebooks/data_table.ipynb>data table notebook</a>'\n",
              "            + ' to learn more about interactive tables.';\n",
              "          element.innerHTML = '';\n",
              "          dataTable['output_type'] = 'display_data';\n",
              "          await google.colab.output.renderOutput(dataTable, element);\n",
              "          const docLink = document.createElement('div');\n",
              "          docLink.innerHTML = docLinkHtml;\n",
              "          element.appendChild(docLink);\n",
              "        }\n",
              "      </script>\n",
              "    </div>\n",
              "  </div>\n",
              "  "
            ],
            "text/plain": [
              "     Gender  Age  ...    Net Worth  Car Purchase Amount\n",
              "37        1   22  ...  326742.7352          10092.22509\n",
              "194       0   70  ...  346555.1716          56229.41270\n",
              "236       1   70  ...  252220.2937          47009.57741\n",
              "444       1   20  ...  494606.6334          28645.39425\n",
              "\n",
              "[4 rows x 6 columns]"
            ]
          },
          "metadata": {},
          "execution_count": 19
        }
      ]
    },
    {
      "cell_type": "code",
      "source": [
        "# Replacing lowerBound outlier with lowerBound and upperBound outlier with upperBound\n",
        "data['Age'][(data['Age'] < lowerBound)] = lowerBound\n",
        "data['Age'][(data['Age'] > upperBound)] = upperBound\n",
        "\n",
        "# After removing outlier from Age\n",
        "data[(lowerBound > data[\"Age\"]) | (data[\"Age\"] > upperBound)]"
      ],
      "metadata": {
        "id": "oKqr8bLASvC2",
        "colab": {
          "base_uri": "https://localhost:8080/"
        },
        "outputId": "6c7c54d0-62a4-4119-b189-66d29f87b115"
      },
      "execution_count": null,
      "outputs": [
        {
          "output_type": "execute_result",
          "data": {
            "text/html": [
              "\n",
              "  <div id=\"df-153fa82c-7c40-44d2-ac05-20a11cde4a20\">\n",
              "    <div class=\"colab-df-container\">\n",
              "      <div>\n",
              "<style scoped>\n",
              "    .dataframe tbody tr th:only-of-type {\n",
              "        vertical-align: middle;\n",
              "    }\n",
              "\n",
              "    .dataframe tbody tr th {\n",
              "        vertical-align: top;\n",
              "    }\n",
              "\n",
              "    .dataframe thead th {\n",
              "        text-align: right;\n",
              "    }\n",
              "</style>\n",
              "<table border=\"1\" class=\"dataframe\">\n",
              "  <thead>\n",
              "    <tr style=\"text-align: right;\">\n",
              "      <th></th>\n",
              "      <th>Gender</th>\n",
              "      <th>Age</th>\n",
              "      <th>Annual Salary</th>\n",
              "      <th>Credit Card Debt</th>\n",
              "      <th>Net Worth</th>\n",
              "      <th>Car Purchase Amount</th>\n",
              "    </tr>\n",
              "  </thead>\n",
              "  <tbody>\n",
              "  </tbody>\n",
              "</table>\n",
              "</div>\n",
              "      <button class=\"colab-df-convert\" onclick=\"convertToInteractive('df-153fa82c-7c40-44d2-ac05-20a11cde4a20')\"\n",
              "              title=\"Convert this dataframe to an interactive table.\"\n",
              "              style=\"display:none;\">\n",
              "        \n",
              "  <svg xmlns=\"http://www.w3.org/2000/svg\" height=\"24px\"viewBox=\"0 0 24 24\"\n",
              "       width=\"24px\">\n",
              "    <path d=\"M0 0h24v24H0V0z\" fill=\"none\"/>\n",
              "    <path d=\"M18.56 5.44l.94 2.06.94-2.06 2.06-.94-2.06-.94-.94-2.06-.94 2.06-2.06.94zm-11 1L8.5 8.5l.94-2.06 2.06-.94-2.06-.94L8.5 2.5l-.94 2.06-2.06.94zm10 10l.94 2.06.94-2.06 2.06-.94-2.06-.94-.94-2.06-.94 2.06-2.06.94z\"/><path d=\"M17.41 7.96l-1.37-1.37c-.4-.4-.92-.59-1.43-.59-.52 0-1.04.2-1.43.59L10.3 9.45l-7.72 7.72c-.78.78-.78 2.05 0 2.83L4 21.41c.39.39.9.59 1.41.59.51 0 1.02-.2 1.41-.59l7.78-7.78 2.81-2.81c.8-.78.8-2.07 0-2.86zM5.41 20L4 18.59l7.72-7.72 1.47 1.35L5.41 20z\"/>\n",
              "  </svg>\n",
              "      </button>\n",
              "      \n",
              "  <style>\n",
              "    .colab-df-container {\n",
              "      display:flex;\n",
              "      flex-wrap:wrap;\n",
              "      gap: 12px;\n",
              "    }\n",
              "\n",
              "    .colab-df-convert {\n",
              "      background-color: #E8F0FE;\n",
              "      border: none;\n",
              "      border-radius: 50%;\n",
              "      cursor: pointer;\n",
              "      display: none;\n",
              "      fill: #1967D2;\n",
              "      height: 32px;\n",
              "      padding: 0 0 0 0;\n",
              "      width: 32px;\n",
              "    }\n",
              "\n",
              "    .colab-df-convert:hover {\n",
              "      background-color: #E2EBFA;\n",
              "      box-shadow: 0px 1px 2px rgba(60, 64, 67, 0.3), 0px 1px 3px 1px rgba(60, 64, 67, 0.15);\n",
              "      fill: #174EA6;\n",
              "    }\n",
              "\n",
              "    [theme=dark] .colab-df-convert {\n",
              "      background-color: #3B4455;\n",
              "      fill: #D2E3FC;\n",
              "    }\n",
              "\n",
              "    [theme=dark] .colab-df-convert:hover {\n",
              "      background-color: #434B5C;\n",
              "      box-shadow: 0px 1px 3px 1px rgba(0, 0, 0, 0.15);\n",
              "      filter: drop-shadow(0px 1px 2px rgba(0, 0, 0, 0.3));\n",
              "      fill: #FFFFFF;\n",
              "    }\n",
              "  </style>\n",
              "\n",
              "      <script>\n",
              "        const buttonEl =\n",
              "          document.querySelector('#df-153fa82c-7c40-44d2-ac05-20a11cde4a20 button.colab-df-convert');\n",
              "        buttonEl.style.display =\n",
              "          google.colab.kernel.accessAllowed ? 'block' : 'none';\n",
              "\n",
              "        async function convertToInteractive(key) {\n",
              "          const element = document.querySelector('#df-153fa82c-7c40-44d2-ac05-20a11cde4a20');\n",
              "          const dataTable =\n",
              "            await google.colab.kernel.invokeFunction('convertToInteractive',\n",
              "                                                     [key], {});\n",
              "          if (!dataTable) return;\n",
              "\n",
              "          const docLinkHtml = 'Like what you see? Visit the ' +\n",
              "            '<a target=\"_blank\" href=https://colab.research.google.com/notebooks/data_table.ipynb>data table notebook</a>'\n",
              "            + ' to learn more about interactive tables.';\n",
              "          element.innerHTML = '';\n",
              "          dataTable['output_type'] = 'display_data';\n",
              "          await google.colab.output.renderOutput(dataTable, element);\n",
              "          const docLink = document.createElement('div');\n",
              "          docLink.innerHTML = docLinkHtml;\n",
              "          element.appendChild(docLink);\n",
              "        }\n",
              "      </script>\n",
              "    </div>\n",
              "  </div>\n",
              "  "
            ],
            "text/plain": [
              "Empty DataFrame\n",
              "Columns: [Gender, Age, Annual Salary, Credit Card Debt, Net Worth, Car Purchase Amount]\n",
              "Index: []"
            ]
          },
          "metadata": {},
          "execution_count": 20
        }
      ]
    },
    {
      "cell_type": "markdown",
      "source": [
        "### for Annual Salary"
      ],
      "metadata": {
        "id": "XD_D4GPybtAm"
      }
    },
    {
      "cell_type": "code",
      "source": [
        "# Outlier TreatMent For Annual Salary\n",
        "Q3 = data['Annual Salary'].quantile(0.75)          # 75 Quantile radius_se data   \n",
        "Q1 = data['Annual Salary'].quantile(0.25)          # 25 Quantile radius_se data\n",
        "\n",
        "IQR = Q3 - Q1\n",
        "\n",
        "# lowerBound = (Q1–1.5*IQR)\n",
        "lowerBound = Q1 - 1.5 * IQR\n",
        "\n",
        "# upperBound = (Q3+1.5*IQR)\n",
        "upperBound = Q3+1.5*IQR\n",
        "\n",
        "lowerBoundData = data['Annual Salary'] < lowerBound\n",
        "upperBoundData = data['Annual Salary'] > upperBound\n",
        "\n",
        "print(\"Outlier in Annual Salary: \")\n",
        "data[(lowerBound > data[\"Annual Salary\"]) | (data[\"Annual Salary\"] > upperBound)]"
      ],
      "metadata": {
        "id": "bHUBA-HLOw2k",
        "colab": {
          "base_uri": "https://localhost:8080/"
        },
        "outputId": "aaa59032-caef-4ffb-f927-baac0097945f"
      },
      "execution_count": null,
      "outputs": [
        {
          "output_type": "stream",
          "name": "stdout",
          "text": [
            "Outlier in Annual Salary: \n"
          ]
        },
        {
          "output_type": "execute_result",
          "data": {
            "text/html": [
              "\n",
              "  <div id=\"df-434030cb-1917-43b2-8a6e-931b4387cfee\">\n",
              "    <div class=\"colab-df-container\">\n",
              "      <div>\n",
              "<style scoped>\n",
              "    .dataframe tbody tr th:only-of-type {\n",
              "        vertical-align: middle;\n",
              "    }\n",
              "\n",
              "    .dataframe tbody tr th {\n",
              "        vertical-align: top;\n",
              "    }\n",
              "\n",
              "    .dataframe thead th {\n",
              "        text-align: right;\n",
              "    }\n",
              "</style>\n",
              "<table border=\"1\" class=\"dataframe\">\n",
              "  <thead>\n",
              "    <tr style=\"text-align: right;\">\n",
              "      <th></th>\n",
              "      <th>Gender</th>\n",
              "      <th>Age</th>\n",
              "      <th>Annual Salary</th>\n",
              "      <th>Credit Card Debt</th>\n",
              "      <th>Net Worth</th>\n",
              "      <th>Car Purchase Amount</th>\n",
              "    </tr>\n",
              "  </thead>\n",
              "  <tbody>\n",
              "    <tr>\n",
              "      <th>28</th>\n",
              "      <td>1</td>\n",
              "      <td>46.0</td>\n",
              "      <td>100000.0</td>\n",
              "      <td>17452.92179</td>\n",
              "      <td>188032.0778</td>\n",
              "      <td>58350.31809</td>\n",
              "    </tr>\n",
              "    <tr>\n",
              "      <th>89</th>\n",
              "      <td>1</td>\n",
              "      <td>32.0</td>\n",
              "      <td>20000.0</td>\n",
              "      <td>14261.80773</td>\n",
              "      <td>579181.6552</td>\n",
              "      <td>12895.71468</td>\n",
              "    </tr>\n",
              "  </tbody>\n",
              "</table>\n",
              "</div>\n",
              "      <button class=\"colab-df-convert\" onclick=\"convertToInteractive('df-434030cb-1917-43b2-8a6e-931b4387cfee')\"\n",
              "              title=\"Convert this dataframe to an interactive table.\"\n",
              "              style=\"display:none;\">\n",
              "        \n",
              "  <svg xmlns=\"http://www.w3.org/2000/svg\" height=\"24px\"viewBox=\"0 0 24 24\"\n",
              "       width=\"24px\">\n",
              "    <path d=\"M0 0h24v24H0V0z\" fill=\"none\"/>\n",
              "    <path d=\"M18.56 5.44l.94 2.06.94-2.06 2.06-.94-2.06-.94-.94-2.06-.94 2.06-2.06.94zm-11 1L8.5 8.5l.94-2.06 2.06-.94-2.06-.94L8.5 2.5l-.94 2.06-2.06.94zm10 10l.94 2.06.94-2.06 2.06-.94-2.06-.94-.94-2.06-.94 2.06-2.06.94z\"/><path d=\"M17.41 7.96l-1.37-1.37c-.4-.4-.92-.59-1.43-.59-.52 0-1.04.2-1.43.59L10.3 9.45l-7.72 7.72c-.78.78-.78 2.05 0 2.83L4 21.41c.39.39.9.59 1.41.59.51 0 1.02-.2 1.41-.59l7.78-7.78 2.81-2.81c.8-.78.8-2.07 0-2.86zM5.41 20L4 18.59l7.72-7.72 1.47 1.35L5.41 20z\"/>\n",
              "  </svg>\n",
              "      </button>\n",
              "      \n",
              "  <style>\n",
              "    .colab-df-container {\n",
              "      display:flex;\n",
              "      flex-wrap:wrap;\n",
              "      gap: 12px;\n",
              "    }\n",
              "\n",
              "    .colab-df-convert {\n",
              "      background-color: #E8F0FE;\n",
              "      border: none;\n",
              "      border-radius: 50%;\n",
              "      cursor: pointer;\n",
              "      display: none;\n",
              "      fill: #1967D2;\n",
              "      height: 32px;\n",
              "      padding: 0 0 0 0;\n",
              "      width: 32px;\n",
              "    }\n",
              "\n",
              "    .colab-df-convert:hover {\n",
              "      background-color: #E2EBFA;\n",
              "      box-shadow: 0px 1px 2px rgba(60, 64, 67, 0.3), 0px 1px 3px 1px rgba(60, 64, 67, 0.15);\n",
              "      fill: #174EA6;\n",
              "    }\n",
              "\n",
              "    [theme=dark] .colab-df-convert {\n",
              "      background-color: #3B4455;\n",
              "      fill: #D2E3FC;\n",
              "    }\n",
              "\n",
              "    [theme=dark] .colab-df-convert:hover {\n",
              "      background-color: #434B5C;\n",
              "      box-shadow: 0px 1px 3px 1px rgba(0, 0, 0, 0.15);\n",
              "      filter: drop-shadow(0px 1px 2px rgba(0, 0, 0, 0.3));\n",
              "      fill: #FFFFFF;\n",
              "    }\n",
              "  </style>\n",
              "\n",
              "      <script>\n",
              "        const buttonEl =\n",
              "          document.querySelector('#df-434030cb-1917-43b2-8a6e-931b4387cfee button.colab-df-convert');\n",
              "        buttonEl.style.display =\n",
              "          google.colab.kernel.accessAllowed ? 'block' : 'none';\n",
              "\n",
              "        async function convertToInteractive(key) {\n",
              "          const element = document.querySelector('#df-434030cb-1917-43b2-8a6e-931b4387cfee');\n",
              "          const dataTable =\n",
              "            await google.colab.kernel.invokeFunction('convertToInteractive',\n",
              "                                                     [key], {});\n",
              "          if (!dataTable) return;\n",
              "\n",
              "          const docLinkHtml = 'Like what you see? Visit the ' +\n",
              "            '<a target=\"_blank\" href=https://colab.research.google.com/notebooks/data_table.ipynb>data table notebook</a>'\n",
              "            + ' to learn more about interactive tables.';\n",
              "          element.innerHTML = '';\n",
              "          dataTable['output_type'] = 'display_data';\n",
              "          await google.colab.output.renderOutput(dataTable, element);\n",
              "          const docLink = document.createElement('div');\n",
              "          docLink.innerHTML = docLinkHtml;\n",
              "          element.appendChild(docLink);\n",
              "        }\n",
              "      </script>\n",
              "    </div>\n",
              "  </div>\n",
              "  "
            ],
            "text/plain": [
              "    Gender   Age  ...    Net Worth  Car Purchase Amount\n",
              "28       1  46.0  ...  188032.0778          58350.31809\n",
              "89       1  32.0  ...  579181.6552          12895.71468\n",
              "\n",
              "[2 rows x 6 columns]"
            ]
          },
          "metadata": {},
          "execution_count": 21
        }
      ]
    },
    {
      "cell_type": "code",
      "source": [
        "# Replacing lowerBound outlier with lowerBound and upperBound outlier with upperBound\n",
        "data['Annual Salary'][(data['Annual Salary'] < lowerBound)] = lowerBound\n",
        "data['Annual Salary'][(data['Annual Salary'] > upperBound)] = upperBound\n",
        "\n",
        "# After removing outlier from Annual Salary\n",
        "data[(lowerBound > data[\"Annual Salary\"]) | (data[\"Annual Salary\"] > upperBound)]"
      ],
      "metadata": {
        "id": "gVxz9VetTR9Q",
        "colab": {
          "base_uri": "https://localhost:8080/"
        },
        "outputId": "a6e9e8d3-9b39-48ae-e13b-22215282c8e8"
      },
      "execution_count": null,
      "outputs": [
        {
          "output_type": "execute_result",
          "data": {
            "text/html": [
              "\n",
              "  <div id=\"df-f629f90e-0d17-4f82-83a1-ee4dffa4eaa6\">\n",
              "    <div class=\"colab-df-container\">\n",
              "      <div>\n",
              "<style scoped>\n",
              "    .dataframe tbody tr th:only-of-type {\n",
              "        vertical-align: middle;\n",
              "    }\n",
              "\n",
              "    .dataframe tbody tr th {\n",
              "        vertical-align: top;\n",
              "    }\n",
              "\n",
              "    .dataframe thead th {\n",
              "        text-align: right;\n",
              "    }\n",
              "</style>\n",
              "<table border=\"1\" class=\"dataframe\">\n",
              "  <thead>\n",
              "    <tr style=\"text-align: right;\">\n",
              "      <th></th>\n",
              "      <th>Gender</th>\n",
              "      <th>Age</th>\n",
              "      <th>Annual Salary</th>\n",
              "      <th>Credit Card Debt</th>\n",
              "      <th>Net Worth</th>\n",
              "      <th>Car Purchase Amount</th>\n",
              "    </tr>\n",
              "  </thead>\n",
              "  <tbody>\n",
              "  </tbody>\n",
              "</table>\n",
              "</div>\n",
              "      <button class=\"colab-df-convert\" onclick=\"convertToInteractive('df-f629f90e-0d17-4f82-83a1-ee4dffa4eaa6')\"\n",
              "              title=\"Convert this dataframe to an interactive table.\"\n",
              "              style=\"display:none;\">\n",
              "        \n",
              "  <svg xmlns=\"http://www.w3.org/2000/svg\" height=\"24px\"viewBox=\"0 0 24 24\"\n",
              "       width=\"24px\">\n",
              "    <path d=\"M0 0h24v24H0V0z\" fill=\"none\"/>\n",
              "    <path d=\"M18.56 5.44l.94 2.06.94-2.06 2.06-.94-2.06-.94-.94-2.06-.94 2.06-2.06.94zm-11 1L8.5 8.5l.94-2.06 2.06-.94-2.06-.94L8.5 2.5l-.94 2.06-2.06.94zm10 10l.94 2.06.94-2.06 2.06-.94-2.06-.94-.94-2.06-.94 2.06-2.06.94z\"/><path d=\"M17.41 7.96l-1.37-1.37c-.4-.4-.92-.59-1.43-.59-.52 0-1.04.2-1.43.59L10.3 9.45l-7.72 7.72c-.78.78-.78 2.05 0 2.83L4 21.41c.39.39.9.59 1.41.59.51 0 1.02-.2 1.41-.59l7.78-7.78 2.81-2.81c.8-.78.8-2.07 0-2.86zM5.41 20L4 18.59l7.72-7.72 1.47 1.35L5.41 20z\"/>\n",
              "  </svg>\n",
              "      </button>\n",
              "      \n",
              "  <style>\n",
              "    .colab-df-container {\n",
              "      display:flex;\n",
              "      flex-wrap:wrap;\n",
              "      gap: 12px;\n",
              "    }\n",
              "\n",
              "    .colab-df-convert {\n",
              "      background-color: #E8F0FE;\n",
              "      border: none;\n",
              "      border-radius: 50%;\n",
              "      cursor: pointer;\n",
              "      display: none;\n",
              "      fill: #1967D2;\n",
              "      height: 32px;\n",
              "      padding: 0 0 0 0;\n",
              "      width: 32px;\n",
              "    }\n",
              "\n",
              "    .colab-df-convert:hover {\n",
              "      background-color: #E2EBFA;\n",
              "      box-shadow: 0px 1px 2px rgba(60, 64, 67, 0.3), 0px 1px 3px 1px rgba(60, 64, 67, 0.15);\n",
              "      fill: #174EA6;\n",
              "    }\n",
              "\n",
              "    [theme=dark] .colab-df-convert {\n",
              "      background-color: #3B4455;\n",
              "      fill: #D2E3FC;\n",
              "    }\n",
              "\n",
              "    [theme=dark] .colab-df-convert:hover {\n",
              "      background-color: #434B5C;\n",
              "      box-shadow: 0px 1px 3px 1px rgba(0, 0, 0, 0.15);\n",
              "      filter: drop-shadow(0px 1px 2px rgba(0, 0, 0, 0.3));\n",
              "      fill: #FFFFFF;\n",
              "    }\n",
              "  </style>\n",
              "\n",
              "      <script>\n",
              "        const buttonEl =\n",
              "          document.querySelector('#df-f629f90e-0d17-4f82-83a1-ee4dffa4eaa6 button.colab-df-convert');\n",
              "        buttonEl.style.display =\n",
              "          google.colab.kernel.accessAllowed ? 'block' : 'none';\n",
              "\n",
              "        async function convertToInteractive(key) {\n",
              "          const element = document.querySelector('#df-f629f90e-0d17-4f82-83a1-ee4dffa4eaa6');\n",
              "          const dataTable =\n",
              "            await google.colab.kernel.invokeFunction('convertToInteractive',\n",
              "                                                     [key], {});\n",
              "          if (!dataTable) return;\n",
              "\n",
              "          const docLinkHtml = 'Like what you see? Visit the ' +\n",
              "            '<a target=\"_blank\" href=https://colab.research.google.com/notebooks/data_table.ipynb>data table notebook</a>'\n",
              "            + ' to learn more about interactive tables.';\n",
              "          element.innerHTML = '';\n",
              "          dataTable['output_type'] = 'display_data';\n",
              "          await google.colab.output.renderOutput(dataTable, element);\n",
              "          const docLink = document.createElement('div');\n",
              "          docLink.innerHTML = docLinkHtml;\n",
              "          element.appendChild(docLink);\n",
              "        }\n",
              "      </script>\n",
              "    </div>\n",
              "  </div>\n",
              "  "
            ],
            "text/plain": [
              "Empty DataFrame\n",
              "Columns: [Gender, Age, Annual Salary, Credit Card Debt, Net Worth, Car Purchase Amount]\n",
              "Index: []"
            ]
          },
          "metadata": {},
          "execution_count": 22
        }
      ]
    },
    {
      "cell_type": "markdown",
      "source": [
        "### For Credit Card Debt"
      ],
      "metadata": {
        "id": "iVPrfWGwfIpT"
      }
    },
    {
      "cell_type": "code",
      "source": [
        "# Outlier TreatMent For age\n",
        "Q3 = data['Credit Card Debt'].quantile(0.75)          # 75 Quantile radius_se data   \n",
        "Q1 = data['Credit Card Debt'].quantile(0.25)          # 25 Quantile radius_se data\n",
        "\n",
        "IQR = Q3 - Q1\n",
        "\n",
        "# lowerBound = (Q1–1.5*IQR)\n",
        "lowerBound = Q1 - 1.5 * IQR\n",
        "\n",
        "# upperBound = (Q3+1.5*IQR)\n",
        "upperBound = Q3+1.5*IQR\n",
        "\n",
        "# Print all outlier\n",
        "print(\"Credit Card Debt in age Column: \")\n",
        "data[(lowerBound > data[\"Credit Card Debt\"]) | (data[\"Credit Card Debt\"] > upperBound)]"
      ],
      "metadata": {
        "id": "NncUJvShV55H",
        "colab": {
          "base_uri": "https://localhost:8080/"
        },
        "outputId": "20f76ff6-30d3-4665-e788-64b2e9ef9e5b"
      },
      "execution_count": null,
      "outputs": [
        {
          "output_type": "stream",
          "name": "stdout",
          "text": [
            "Credit Card Debt in age Column: \n"
          ]
        },
        {
          "output_type": "execute_result",
          "data": {
            "text/html": [
              "\n",
              "  <div id=\"df-72d118d8-1310-47f5-a2d8-dcb8e631d19d\">\n",
              "    <div class=\"colab-df-container\">\n",
              "      <div>\n",
              "<style scoped>\n",
              "    .dataframe tbody tr th:only-of-type {\n",
              "        vertical-align: middle;\n",
              "    }\n",
              "\n",
              "    .dataframe tbody tr th {\n",
              "        vertical-align: top;\n",
              "    }\n",
              "\n",
              "    .dataframe thead th {\n",
              "        text-align: right;\n",
              "    }\n",
              "</style>\n",
              "<table border=\"1\" class=\"dataframe\">\n",
              "  <thead>\n",
              "    <tr style=\"text-align: right;\">\n",
              "      <th></th>\n",
              "      <th>Gender</th>\n",
              "      <th>Age</th>\n",
              "      <th>Annual Salary</th>\n",
              "      <th>Credit Card Debt</th>\n",
              "      <th>Net Worth</th>\n",
              "      <th>Car Purchase Amount</th>\n",
              "    </tr>\n",
              "  </thead>\n",
              "  <tbody>\n",
              "    <tr>\n",
              "      <th>221</th>\n",
              "      <td>1</td>\n",
              "      <td>36.0</td>\n",
              "      <td>69494.69783</td>\n",
              "      <td>20000.000000</td>\n",
              "      <td>335809.6171</td>\n",
              "      <td>37303.56701</td>\n",
              "    </tr>\n",
              "    <tr>\n",
              "      <th>239</th>\n",
              "      <td>1</td>\n",
              "      <td>45.0</td>\n",
              "      <td>62939.12851</td>\n",
              "      <td>632.052852</td>\n",
              "      <td>455589.7973</td>\n",
              "      <td>44434.98419</td>\n",
              "    </tr>\n",
              "    <tr>\n",
              "      <th>253</th>\n",
              "      <td>1</td>\n",
              "      <td>46.0</td>\n",
              "      <td>55434.04046</td>\n",
              "      <td>18693.146520</td>\n",
              "      <td>316906.6441</td>\n",
              "      <td>37093.92033</td>\n",
              "    </tr>\n",
              "    <tr>\n",
              "      <th>290</th>\n",
              "      <td>0</td>\n",
              "      <td>63.0</td>\n",
              "      <td>46549.16329</td>\n",
              "      <td>640.045378</td>\n",
              "      <td>626163.8320</td>\n",
              "      <td>55543.38497</td>\n",
              "    </tr>\n",
              "    <tr>\n",
              "      <th>440</th>\n",
              "      <td>1</td>\n",
              "      <td>40.0</td>\n",
              "      <td>57777.15558</td>\n",
              "      <td>19692.912620</td>\n",
              "      <td>601210.2803</td>\n",
              "      <td>41147.46679</td>\n",
              "    </tr>\n",
              "    <tr>\n",
              "      <th>444</th>\n",
              "      <td>1</td>\n",
              "      <td>24.5</td>\n",
              "      <td>70467.29492</td>\n",
              "      <td>100.000000</td>\n",
              "      <td>494606.6334</td>\n",
              "      <td>28645.39425</td>\n",
              "    </tr>\n",
              "    <tr>\n",
              "      <th>488</th>\n",
              "      <td>0</td>\n",
              "      <td>42.0</td>\n",
              "      <td>61575.95020</td>\n",
              "      <td>594.804949</td>\n",
              "      <td>497197.2640</td>\n",
              "      <td>41984.62412</td>\n",
              "    </tr>\n",
              "  </tbody>\n",
              "</table>\n",
              "</div>\n",
              "      <button class=\"colab-df-convert\" onclick=\"convertToInteractive('df-72d118d8-1310-47f5-a2d8-dcb8e631d19d')\"\n",
              "              title=\"Convert this dataframe to an interactive table.\"\n",
              "              style=\"display:none;\">\n",
              "        \n",
              "  <svg xmlns=\"http://www.w3.org/2000/svg\" height=\"24px\"viewBox=\"0 0 24 24\"\n",
              "       width=\"24px\">\n",
              "    <path d=\"M0 0h24v24H0V0z\" fill=\"none\"/>\n",
              "    <path d=\"M18.56 5.44l.94 2.06.94-2.06 2.06-.94-2.06-.94-.94-2.06-.94 2.06-2.06.94zm-11 1L8.5 8.5l.94-2.06 2.06-.94-2.06-.94L8.5 2.5l-.94 2.06-2.06.94zm10 10l.94 2.06.94-2.06 2.06-.94-2.06-.94-.94-2.06-.94 2.06-2.06.94z\"/><path d=\"M17.41 7.96l-1.37-1.37c-.4-.4-.92-.59-1.43-.59-.52 0-1.04.2-1.43.59L10.3 9.45l-7.72 7.72c-.78.78-.78 2.05 0 2.83L4 21.41c.39.39.9.59 1.41.59.51 0 1.02-.2 1.41-.59l7.78-7.78 2.81-2.81c.8-.78.8-2.07 0-2.86zM5.41 20L4 18.59l7.72-7.72 1.47 1.35L5.41 20z\"/>\n",
              "  </svg>\n",
              "      </button>\n",
              "      \n",
              "  <style>\n",
              "    .colab-df-container {\n",
              "      display:flex;\n",
              "      flex-wrap:wrap;\n",
              "      gap: 12px;\n",
              "    }\n",
              "\n",
              "    .colab-df-convert {\n",
              "      background-color: #E8F0FE;\n",
              "      border: none;\n",
              "      border-radius: 50%;\n",
              "      cursor: pointer;\n",
              "      display: none;\n",
              "      fill: #1967D2;\n",
              "      height: 32px;\n",
              "      padding: 0 0 0 0;\n",
              "      width: 32px;\n",
              "    }\n",
              "\n",
              "    .colab-df-convert:hover {\n",
              "      background-color: #E2EBFA;\n",
              "      box-shadow: 0px 1px 2px rgba(60, 64, 67, 0.3), 0px 1px 3px 1px rgba(60, 64, 67, 0.15);\n",
              "      fill: #174EA6;\n",
              "    }\n",
              "\n",
              "    [theme=dark] .colab-df-convert {\n",
              "      background-color: #3B4455;\n",
              "      fill: #D2E3FC;\n",
              "    }\n",
              "\n",
              "    [theme=dark] .colab-df-convert:hover {\n",
              "      background-color: #434B5C;\n",
              "      box-shadow: 0px 1px 3px 1px rgba(0, 0, 0, 0.15);\n",
              "      filter: drop-shadow(0px 1px 2px rgba(0, 0, 0, 0.3));\n",
              "      fill: #FFFFFF;\n",
              "    }\n",
              "  </style>\n",
              "\n",
              "      <script>\n",
              "        const buttonEl =\n",
              "          document.querySelector('#df-72d118d8-1310-47f5-a2d8-dcb8e631d19d button.colab-df-convert');\n",
              "        buttonEl.style.display =\n",
              "          google.colab.kernel.accessAllowed ? 'block' : 'none';\n",
              "\n",
              "        async function convertToInteractive(key) {\n",
              "          const element = document.querySelector('#df-72d118d8-1310-47f5-a2d8-dcb8e631d19d');\n",
              "          const dataTable =\n",
              "            await google.colab.kernel.invokeFunction('convertToInteractive',\n",
              "                                                     [key], {});\n",
              "          if (!dataTable) return;\n",
              "\n",
              "          const docLinkHtml = 'Like what you see? Visit the ' +\n",
              "            '<a target=\"_blank\" href=https://colab.research.google.com/notebooks/data_table.ipynb>data table notebook</a>'\n",
              "            + ' to learn more about interactive tables.';\n",
              "          element.innerHTML = '';\n",
              "          dataTable['output_type'] = 'display_data';\n",
              "          await google.colab.output.renderOutput(dataTable, element);\n",
              "          const docLink = document.createElement('div');\n",
              "          docLink.innerHTML = docLinkHtml;\n",
              "          element.appendChild(docLink);\n",
              "        }\n",
              "      </script>\n",
              "    </div>\n",
              "  </div>\n",
              "  "
            ],
            "text/plain": [
              "     Gender   Age  ...    Net Worth  Car Purchase Amount\n",
              "221       1  36.0  ...  335809.6171          37303.56701\n",
              "239       1  45.0  ...  455589.7973          44434.98419\n",
              "253       1  46.0  ...  316906.6441          37093.92033\n",
              "290       0  63.0  ...  626163.8320          55543.38497\n",
              "440       1  40.0  ...  601210.2803          41147.46679\n",
              "444       1  24.5  ...  494606.6334          28645.39425\n",
              "488       0  42.0  ...  497197.2640          41984.62412\n",
              "\n",
              "[7 rows x 6 columns]"
            ]
          },
          "metadata": {},
          "execution_count": 23
        }
      ]
    },
    {
      "cell_type": "code",
      "source": [
        "# Replacing lowerBound outlier with lowerBound and upperBound outlier with upperBound\n",
        "data['Credit Card Debt'][(data['Credit Card Debt'] < lowerBound)] = lowerBound\n",
        "data['Credit Card Debt'][(data['Credit Card Debt'] > upperBound)] = upperBound\n",
        "\n",
        "# After removing outlier from Annual Salary\n",
        "data[(lowerBound > data[\"Credit Card Debt\"]) | (data[\"Credit Card Debt\"] > upperBound)]"
      ],
      "metadata": {
        "id": "4_-SUY9NTsFq",
        "colab": {
          "base_uri": "https://localhost:8080/"
        },
        "outputId": "6806be2b-3ca0-4f82-b4fe-48f55bc025b8"
      },
      "execution_count": null,
      "outputs": [
        {
          "output_type": "execute_result",
          "data": {
            "text/html": [
              "\n",
              "  <div id=\"df-1e272302-6cc9-4999-bf94-6d272677cb28\">\n",
              "    <div class=\"colab-df-container\">\n",
              "      <div>\n",
              "<style scoped>\n",
              "    .dataframe tbody tr th:only-of-type {\n",
              "        vertical-align: middle;\n",
              "    }\n",
              "\n",
              "    .dataframe tbody tr th {\n",
              "        vertical-align: top;\n",
              "    }\n",
              "\n",
              "    .dataframe thead th {\n",
              "        text-align: right;\n",
              "    }\n",
              "</style>\n",
              "<table border=\"1\" class=\"dataframe\">\n",
              "  <thead>\n",
              "    <tr style=\"text-align: right;\">\n",
              "      <th></th>\n",
              "      <th>Gender</th>\n",
              "      <th>Age</th>\n",
              "      <th>Annual Salary</th>\n",
              "      <th>Credit Card Debt</th>\n",
              "      <th>Net Worth</th>\n",
              "      <th>Car Purchase Amount</th>\n",
              "    </tr>\n",
              "  </thead>\n",
              "  <tbody>\n",
              "  </tbody>\n",
              "</table>\n",
              "</div>\n",
              "      <button class=\"colab-df-convert\" onclick=\"convertToInteractive('df-1e272302-6cc9-4999-bf94-6d272677cb28')\"\n",
              "              title=\"Convert this dataframe to an interactive table.\"\n",
              "              style=\"display:none;\">\n",
              "        \n",
              "  <svg xmlns=\"http://www.w3.org/2000/svg\" height=\"24px\"viewBox=\"0 0 24 24\"\n",
              "       width=\"24px\">\n",
              "    <path d=\"M0 0h24v24H0V0z\" fill=\"none\"/>\n",
              "    <path d=\"M18.56 5.44l.94 2.06.94-2.06 2.06-.94-2.06-.94-.94-2.06-.94 2.06-2.06.94zm-11 1L8.5 8.5l.94-2.06 2.06-.94-2.06-.94L8.5 2.5l-.94 2.06-2.06.94zm10 10l.94 2.06.94-2.06 2.06-.94-2.06-.94-.94-2.06-.94 2.06-2.06.94z\"/><path d=\"M17.41 7.96l-1.37-1.37c-.4-.4-.92-.59-1.43-.59-.52 0-1.04.2-1.43.59L10.3 9.45l-7.72 7.72c-.78.78-.78 2.05 0 2.83L4 21.41c.39.39.9.59 1.41.59.51 0 1.02-.2 1.41-.59l7.78-7.78 2.81-2.81c.8-.78.8-2.07 0-2.86zM5.41 20L4 18.59l7.72-7.72 1.47 1.35L5.41 20z\"/>\n",
              "  </svg>\n",
              "      </button>\n",
              "      \n",
              "  <style>\n",
              "    .colab-df-container {\n",
              "      display:flex;\n",
              "      flex-wrap:wrap;\n",
              "      gap: 12px;\n",
              "    }\n",
              "\n",
              "    .colab-df-convert {\n",
              "      background-color: #E8F0FE;\n",
              "      border: none;\n",
              "      border-radius: 50%;\n",
              "      cursor: pointer;\n",
              "      display: none;\n",
              "      fill: #1967D2;\n",
              "      height: 32px;\n",
              "      padding: 0 0 0 0;\n",
              "      width: 32px;\n",
              "    }\n",
              "\n",
              "    .colab-df-convert:hover {\n",
              "      background-color: #E2EBFA;\n",
              "      box-shadow: 0px 1px 2px rgba(60, 64, 67, 0.3), 0px 1px 3px 1px rgba(60, 64, 67, 0.15);\n",
              "      fill: #174EA6;\n",
              "    }\n",
              "\n",
              "    [theme=dark] .colab-df-convert {\n",
              "      background-color: #3B4455;\n",
              "      fill: #D2E3FC;\n",
              "    }\n",
              "\n",
              "    [theme=dark] .colab-df-convert:hover {\n",
              "      background-color: #434B5C;\n",
              "      box-shadow: 0px 1px 3px 1px rgba(0, 0, 0, 0.15);\n",
              "      filter: drop-shadow(0px 1px 2px rgba(0, 0, 0, 0.3));\n",
              "      fill: #FFFFFF;\n",
              "    }\n",
              "  </style>\n",
              "\n",
              "      <script>\n",
              "        const buttonEl =\n",
              "          document.querySelector('#df-1e272302-6cc9-4999-bf94-6d272677cb28 button.colab-df-convert');\n",
              "        buttonEl.style.display =\n",
              "          google.colab.kernel.accessAllowed ? 'block' : 'none';\n",
              "\n",
              "        async function convertToInteractive(key) {\n",
              "          const element = document.querySelector('#df-1e272302-6cc9-4999-bf94-6d272677cb28');\n",
              "          const dataTable =\n",
              "            await google.colab.kernel.invokeFunction('convertToInteractive',\n",
              "                                                     [key], {});\n",
              "          if (!dataTable) return;\n",
              "\n",
              "          const docLinkHtml = 'Like what you see? Visit the ' +\n",
              "            '<a target=\"_blank\" href=https://colab.research.google.com/notebooks/data_table.ipynb>data table notebook</a>'\n",
              "            + ' to learn more about interactive tables.';\n",
              "          element.innerHTML = '';\n",
              "          dataTable['output_type'] = 'display_data';\n",
              "          await google.colab.output.renderOutput(dataTable, element);\n",
              "          const docLink = document.createElement('div');\n",
              "          docLink.innerHTML = docLinkHtml;\n",
              "          element.appendChild(docLink);\n",
              "        }\n",
              "      </script>\n",
              "    </div>\n",
              "  </div>\n",
              "  "
            ],
            "text/plain": [
              "Empty DataFrame\n",
              "Columns: [Gender, Age, Annual Salary, Credit Card Debt, Net Worth, Car Purchase Amount]\n",
              "Index: []"
            ]
          },
          "metadata": {},
          "execution_count": 24
        }
      ]
    },
    {
      "cell_type": "markdown",
      "source": [
        "### Net Worth"
      ],
      "metadata": {
        "id": "j4jnCvA8fP3h"
      }
    },
    {
      "cell_type": "code",
      "source": [
        "# Outlier TreatMent For age\n",
        "Q3 = data['Net Worth'].quantile(0.75)          # 75 Quantile radius_se data   \n",
        "Q1 = data['Net Worth'].quantile(0.25)          # 25 Quantile radius_se data\n",
        "\n",
        "IQR = Q3 - Q1\n",
        "\n",
        "# lowerBound = (Q1–1.5*IQR)\n",
        "lowerBound = Q1 - 1.5 * IQR\n",
        "\n",
        "# upperBound = (Q3+1.5*IQR)\n",
        "upperBound = Q3+1.5*IQR\n",
        "\n",
        "print(\"Net Wortht in age Column: \")\n",
        "data[(lowerBound > data[\"Net Worth\"]) | (data[\"Net Worth\"] > upperBound)]"
      ],
      "metadata": {
        "id": "11rhtdpyVu8k",
        "colab": {
          "base_uri": "https://localhost:8080/"
        },
        "outputId": "8877faa2-d800-4ee6-f629-19aedc1c20d3"
      },
      "execution_count": null,
      "outputs": [
        {
          "output_type": "stream",
          "name": "stdout",
          "text": [
            "Net Wortht in age Column: \n"
          ]
        },
        {
          "output_type": "execute_result",
          "data": {
            "text/html": [
              "\n",
              "  <div id=\"df-806eb124-5876-462c-96f4-af263fab973e\">\n",
              "    <div class=\"colab-df-container\">\n",
              "      <div>\n",
              "<style scoped>\n",
              "    .dataframe tbody tr th:only-of-type {\n",
              "        vertical-align: middle;\n",
              "    }\n",
              "\n",
              "    .dataframe tbody tr th {\n",
              "        vertical-align: top;\n",
              "    }\n",
              "\n",
              "    .dataframe thead th {\n",
              "        text-align: right;\n",
              "    }\n",
              "</style>\n",
              "<table border=\"1\" class=\"dataframe\">\n",
              "  <thead>\n",
              "    <tr style=\"text-align: right;\">\n",
              "      <th></th>\n",
              "      <th>Gender</th>\n",
              "      <th>Age</th>\n",
              "      <th>Annual Salary</th>\n",
              "      <th>Credit Card Debt</th>\n",
              "      <th>Net Worth</th>\n",
              "      <th>Car Purchase Amount</th>\n",
              "    </tr>\n",
              "  </thead>\n",
              "  <tbody>\n",
              "    <tr>\n",
              "      <th>315</th>\n",
              "      <td>1</td>\n",
              "      <td>55.0</td>\n",
              "      <td>83333.81054</td>\n",
              "      <td>9874.075327</td>\n",
              "      <td>1000000.0</td>\n",
              "      <td>80000.0</td>\n",
              "    </tr>\n",
              "  </tbody>\n",
              "</table>\n",
              "</div>\n",
              "      <button class=\"colab-df-convert\" onclick=\"convertToInteractive('df-806eb124-5876-462c-96f4-af263fab973e')\"\n",
              "              title=\"Convert this dataframe to an interactive table.\"\n",
              "              style=\"display:none;\">\n",
              "        \n",
              "  <svg xmlns=\"http://www.w3.org/2000/svg\" height=\"24px\"viewBox=\"0 0 24 24\"\n",
              "       width=\"24px\">\n",
              "    <path d=\"M0 0h24v24H0V0z\" fill=\"none\"/>\n",
              "    <path d=\"M18.56 5.44l.94 2.06.94-2.06 2.06-.94-2.06-.94-.94-2.06-.94 2.06-2.06.94zm-11 1L8.5 8.5l.94-2.06 2.06-.94-2.06-.94L8.5 2.5l-.94 2.06-2.06.94zm10 10l.94 2.06.94-2.06 2.06-.94-2.06-.94-.94-2.06-.94 2.06-2.06.94z\"/><path d=\"M17.41 7.96l-1.37-1.37c-.4-.4-.92-.59-1.43-.59-.52 0-1.04.2-1.43.59L10.3 9.45l-7.72 7.72c-.78.78-.78 2.05 0 2.83L4 21.41c.39.39.9.59 1.41.59.51 0 1.02-.2 1.41-.59l7.78-7.78 2.81-2.81c.8-.78.8-2.07 0-2.86zM5.41 20L4 18.59l7.72-7.72 1.47 1.35L5.41 20z\"/>\n",
              "  </svg>\n",
              "      </button>\n",
              "      \n",
              "  <style>\n",
              "    .colab-df-container {\n",
              "      display:flex;\n",
              "      flex-wrap:wrap;\n",
              "      gap: 12px;\n",
              "    }\n",
              "\n",
              "    .colab-df-convert {\n",
              "      background-color: #E8F0FE;\n",
              "      border: none;\n",
              "      border-radius: 50%;\n",
              "      cursor: pointer;\n",
              "      display: none;\n",
              "      fill: #1967D2;\n",
              "      height: 32px;\n",
              "      padding: 0 0 0 0;\n",
              "      width: 32px;\n",
              "    }\n",
              "\n",
              "    .colab-df-convert:hover {\n",
              "      background-color: #E2EBFA;\n",
              "      box-shadow: 0px 1px 2px rgba(60, 64, 67, 0.3), 0px 1px 3px 1px rgba(60, 64, 67, 0.15);\n",
              "      fill: #174EA6;\n",
              "    }\n",
              "\n",
              "    [theme=dark] .colab-df-convert {\n",
              "      background-color: #3B4455;\n",
              "      fill: #D2E3FC;\n",
              "    }\n",
              "\n",
              "    [theme=dark] .colab-df-convert:hover {\n",
              "      background-color: #434B5C;\n",
              "      box-shadow: 0px 1px 3px 1px rgba(0, 0, 0, 0.15);\n",
              "      filter: drop-shadow(0px 1px 2px rgba(0, 0, 0, 0.3));\n",
              "      fill: #FFFFFF;\n",
              "    }\n",
              "  </style>\n",
              "\n",
              "      <script>\n",
              "        const buttonEl =\n",
              "          document.querySelector('#df-806eb124-5876-462c-96f4-af263fab973e button.colab-df-convert');\n",
              "        buttonEl.style.display =\n",
              "          google.colab.kernel.accessAllowed ? 'block' : 'none';\n",
              "\n",
              "        async function convertToInteractive(key) {\n",
              "          const element = document.querySelector('#df-806eb124-5876-462c-96f4-af263fab973e');\n",
              "          const dataTable =\n",
              "            await google.colab.kernel.invokeFunction('convertToInteractive',\n",
              "                                                     [key], {});\n",
              "          if (!dataTable) return;\n",
              "\n",
              "          const docLinkHtml = 'Like what you see? Visit the ' +\n",
              "            '<a target=\"_blank\" href=https://colab.research.google.com/notebooks/data_table.ipynb>data table notebook</a>'\n",
              "            + ' to learn more about interactive tables.';\n",
              "          element.innerHTML = '';\n",
              "          dataTable['output_type'] = 'display_data';\n",
              "          await google.colab.output.renderOutput(dataTable, element);\n",
              "          const docLink = document.createElement('div');\n",
              "          docLink.innerHTML = docLinkHtml;\n",
              "          element.appendChild(docLink);\n",
              "        }\n",
              "      </script>\n",
              "    </div>\n",
              "  </div>\n",
              "  "
            ],
            "text/plain": [
              "     Gender   Age  ...  Net Worth  Car Purchase Amount\n",
              "315       1  55.0  ...  1000000.0              80000.0\n",
              "\n",
              "[1 rows x 6 columns]"
            ]
          },
          "metadata": {},
          "execution_count": 25
        }
      ]
    },
    {
      "cell_type": "code",
      "source": [
        "# Replacing lowerBound outlier with lowerBound and upperBound outlier with upperBound\n",
        "data['Net Worth'][(data['Net Worth'] < lowerBound)] = lowerBound\n",
        "data['Net Worth'][(data['Net Worth'] > upperBound)] = upperBound\n",
        "\n",
        "# After removing outlier from Annual Salary\n",
        "data[(lowerBound > data[\"Net Worth\"]) | (data[\"Net Worth\"] > upperBound)]"
      ],
      "metadata": {
        "id": "x97bEPh5Ni0V",
        "colab": {
          "base_uri": "https://localhost:8080/"
        },
        "outputId": "4ed69db1-1319-4d7c-d67f-36a443aa61a2"
      },
      "execution_count": null,
      "outputs": [
        {
          "output_type": "execute_result",
          "data": {
            "text/html": [
              "\n",
              "  <div id=\"df-9b6c4f41-06f1-46b2-a653-1caa84a51ca7\">\n",
              "    <div class=\"colab-df-container\">\n",
              "      <div>\n",
              "<style scoped>\n",
              "    .dataframe tbody tr th:only-of-type {\n",
              "        vertical-align: middle;\n",
              "    }\n",
              "\n",
              "    .dataframe tbody tr th {\n",
              "        vertical-align: top;\n",
              "    }\n",
              "\n",
              "    .dataframe thead th {\n",
              "        text-align: right;\n",
              "    }\n",
              "</style>\n",
              "<table border=\"1\" class=\"dataframe\">\n",
              "  <thead>\n",
              "    <tr style=\"text-align: right;\">\n",
              "      <th></th>\n",
              "      <th>Gender</th>\n",
              "      <th>Age</th>\n",
              "      <th>Annual Salary</th>\n",
              "      <th>Credit Card Debt</th>\n",
              "      <th>Net Worth</th>\n",
              "      <th>Car Purchase Amount</th>\n",
              "    </tr>\n",
              "  </thead>\n",
              "  <tbody>\n",
              "  </tbody>\n",
              "</table>\n",
              "</div>\n",
              "      <button class=\"colab-df-convert\" onclick=\"convertToInteractive('df-9b6c4f41-06f1-46b2-a653-1caa84a51ca7')\"\n",
              "              title=\"Convert this dataframe to an interactive table.\"\n",
              "              style=\"display:none;\">\n",
              "        \n",
              "  <svg xmlns=\"http://www.w3.org/2000/svg\" height=\"24px\"viewBox=\"0 0 24 24\"\n",
              "       width=\"24px\">\n",
              "    <path d=\"M0 0h24v24H0V0z\" fill=\"none\"/>\n",
              "    <path d=\"M18.56 5.44l.94 2.06.94-2.06 2.06-.94-2.06-.94-.94-2.06-.94 2.06-2.06.94zm-11 1L8.5 8.5l.94-2.06 2.06-.94-2.06-.94L8.5 2.5l-.94 2.06-2.06.94zm10 10l.94 2.06.94-2.06 2.06-.94-2.06-.94-.94-2.06-.94 2.06-2.06.94z\"/><path d=\"M17.41 7.96l-1.37-1.37c-.4-.4-.92-.59-1.43-.59-.52 0-1.04.2-1.43.59L10.3 9.45l-7.72 7.72c-.78.78-.78 2.05 0 2.83L4 21.41c.39.39.9.59 1.41.59.51 0 1.02-.2 1.41-.59l7.78-7.78 2.81-2.81c.8-.78.8-2.07 0-2.86zM5.41 20L4 18.59l7.72-7.72 1.47 1.35L5.41 20z\"/>\n",
              "  </svg>\n",
              "      </button>\n",
              "      \n",
              "  <style>\n",
              "    .colab-df-container {\n",
              "      display:flex;\n",
              "      flex-wrap:wrap;\n",
              "      gap: 12px;\n",
              "    }\n",
              "\n",
              "    .colab-df-convert {\n",
              "      background-color: #E8F0FE;\n",
              "      border: none;\n",
              "      border-radius: 50%;\n",
              "      cursor: pointer;\n",
              "      display: none;\n",
              "      fill: #1967D2;\n",
              "      height: 32px;\n",
              "      padding: 0 0 0 0;\n",
              "      width: 32px;\n",
              "    }\n",
              "\n",
              "    .colab-df-convert:hover {\n",
              "      background-color: #E2EBFA;\n",
              "      box-shadow: 0px 1px 2px rgba(60, 64, 67, 0.3), 0px 1px 3px 1px rgba(60, 64, 67, 0.15);\n",
              "      fill: #174EA6;\n",
              "    }\n",
              "\n",
              "    [theme=dark] .colab-df-convert {\n",
              "      background-color: #3B4455;\n",
              "      fill: #D2E3FC;\n",
              "    }\n",
              "\n",
              "    [theme=dark] .colab-df-convert:hover {\n",
              "      background-color: #434B5C;\n",
              "      box-shadow: 0px 1px 3px 1px rgba(0, 0, 0, 0.15);\n",
              "      filter: drop-shadow(0px 1px 2px rgba(0, 0, 0, 0.3));\n",
              "      fill: #FFFFFF;\n",
              "    }\n",
              "  </style>\n",
              "\n",
              "      <script>\n",
              "        const buttonEl =\n",
              "          document.querySelector('#df-9b6c4f41-06f1-46b2-a653-1caa84a51ca7 button.colab-df-convert');\n",
              "        buttonEl.style.display =\n",
              "          google.colab.kernel.accessAllowed ? 'block' : 'none';\n",
              "\n",
              "        async function convertToInteractive(key) {\n",
              "          const element = document.querySelector('#df-9b6c4f41-06f1-46b2-a653-1caa84a51ca7');\n",
              "          const dataTable =\n",
              "            await google.colab.kernel.invokeFunction('convertToInteractive',\n",
              "                                                     [key], {});\n",
              "          if (!dataTable) return;\n",
              "\n",
              "          const docLinkHtml = 'Like what you see? Visit the ' +\n",
              "            '<a target=\"_blank\" href=https://colab.research.google.com/notebooks/data_table.ipynb>data table notebook</a>'\n",
              "            + ' to learn more about interactive tables.';\n",
              "          element.innerHTML = '';\n",
              "          dataTable['output_type'] = 'display_data';\n",
              "          await google.colab.output.renderOutput(dataTable, element);\n",
              "          const docLink = document.createElement('div');\n",
              "          docLink.innerHTML = docLinkHtml;\n",
              "          element.appendChild(docLink);\n",
              "        }\n",
              "      </script>\n",
              "    </div>\n",
              "  </div>\n",
              "  "
            ],
            "text/plain": [
              "Empty DataFrame\n",
              "Columns: [Gender, Age, Annual Salary, Credit Card Debt, Net Worth, Car Purchase Amount]\n",
              "Index: []"
            ]
          },
          "metadata": {},
          "execution_count": 26
        }
      ]
    },
    {
      "cell_type": "markdown",
      "source": [
        "### After removing all the outlier"
      ],
      "metadata": {
        "id": "DmyyAMcLfYBI"
      }
    },
    {
      "cell_type": "code",
      "source": [
        "fig, axs = plt.subplots(2,2, figsize = (22,11))\n",
        "plt1 = sns.boxplot(data['Age'], ax = axs[0,0])\n",
        "plt2 = sns.boxplot(data['Annual Salary'], ax = axs[0,1])\n",
        "plt3 = sns.boxplot(data['Credit Card Debt'], ax = axs[1,0])\n",
        "plt4 = sns.boxplot(data['Net Worth'], ax = axs[1,1])"
      ],
      "metadata": {
        "id": "E1l0HhLUUJWX",
        "colab": {
          "base_uri": "https://localhost:8080/"
        },
        "outputId": "080a93c5-c95c-41a7-eeae-622bded2f85f"
      },
      "execution_count": null,
      "outputs": [
        {
          "output_type": "display_data",
          "data": {
            "image/png": "[encoded data removed]",
            "text/plain": [
              "<Figure size 1584x792 with 4 Axes>"
            ]
          },
          "metadata": {}
        }
      ]
    },
    {
      "cell_type": "markdown",
      "source": [
        "### Splitting the dataset"
      ],
      "metadata": {
        "id": "QuvoAc8Ef1Q2"
      }
    },
    {
      "cell_type": "code",
      "source": [
        "# dependentVariable: \"Car Purchase Amount\"\n",
        "dependentVariable = \"Car Purchase Amount\"\n",
        "\n",
        "X = data.drop([dependentVariable], axis=1)\n",
        "y = data[dependentVariable]\n",
        "\n",
        "# splitting the dataset into train(80%) and test(20%)\n",
        "X_train, X_test, y_train, y_test = train_test_split(X, y, test_size=0.2, random_state=42)"
      ],
      "metadata": {
        "id": "XexdJ7mDUSOh"
      },
      "execution_count": null,
      "outputs": []
    },
    {
      "cell_type": "markdown",
      "source": [
        "## LinearRegression\n",
        "\n",
        "\n",
        "*   Linear regression attempts to model the relationship between two variables by fitting a linear equation to observed data. One variable is considered to be an dependent variable, and the other is considered to be a Independent variable.\n"
      ],
      "metadata": {
        "id": "jJ-AYs9qgDT2"
      }
    },
    {
      "cell_type": "code",
      "source": [
        "model = LinearRegression()\n",
        "model.fit(X_train, y_train)        # Train the model"
      ],
      "metadata": {
        "id": "WwfkNn-UWRYD",
        "colab": {
          "base_uri": "https://localhost:8080/"
        },
        "outputId": "7e028f6f-ea2b-4131-bccb-d8be1bb5ed66"
      },
      "execution_count": null,
      "outputs": [
        {
          "output_type": "execute_result",
          "data": {
            "text/plain": [
              "LinearRegression()"
            ]
          },
          "metadata": {},
          "execution_count": 29
        }
      ]
    },
    {
      "cell_type": "markdown",
      "source": [
        "### Mean square error\n",
        "![image.png](data:image/png;base64,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)"
      ],
      "metadata": {
        "id": "8vNj_TJNOaf8"
      }
    },
    {
      "cell_type": "code",
      "source": [
        "print(\"Mean squared error for test data: \", mean_squared_error(y_test, model.predict(X_test)))\n",
        "print(\"Mean squared error for train data: \", mean_squared_error(y_train, model.predict(X_train)))\n",
        "print(\"Mean squared error for all data: \", mean_squared_error(y, model.predict(X)))"
      ],
      "metadata": {
        "id": "1MCLEKY1OgRd",
        "colab": {
          "base_uri": "https://localhost:8080/"
        },
        "outputId": "a59f1df8-4f2c-4616-e6f6-79bf36829b1f"
      },
      "execution_count": null,
      "outputs": [
        {
          "output_type": "stream",
          "name": "stdout",
          "text": [
            "Mean squared error for test data:  84227.43225277487\n",
            "Mean squared error for train data:  225679.38381970525\n",
            "Mean squared error for all data:  197388.99350631918\n"
          ]
        }
      ]
    },
    {
      "cell_type": "markdown",
      "source": [
        "### RMSE: Root mean squared error\n",
        "RMSE = MSE^1/2"
      ],
      "metadata": {
        "id": "iWYHP05rDv01"
      }
    },
    {
      "cell_type": "code",
      "source": [
        "print(\"Root Mean squared error for test data: \", sqrt(mean_squared_error(y_test, model.predict(X_test))))\n",
        "print(\"Root Mean squared error for train data: \", sqrt(mean_squared_error(y_train, model.predict(X_train))))\n",
        "print(\"Root Mean squared error for all data: \", sqrt(mean_squared_error(y, model.predict(X))))"
      ],
      "metadata": {
        "id": "McDpg8kRWgFM",
        "colab": {
          "base_uri": "https://localhost:8080/"
        },
        "outputId": "574463c0-db6d-4088-fbc0-53645de7cbae"
      },
      "execution_count": null,
      "outputs": [
        {
          "output_type": "stream",
          "name": "stdout",
          "text": [
            "Root Mean squared error for test data:  290.2196276146306\n",
            "Root Mean squared error for train data:  475.05724267682234\n",
            "Root Mean squared error for all data:  444.28481124872945\n"
          ]
        }
      ]
    },
    {
      "cell_type": "markdown",
      "source": [
        "### R sqaure\n",
        "R-Squared is a statistical measure of fit that indicates how much variation of a dependent variable is explained by the independent variable(s) in a regression model."
      ],
      "metadata": {
        "id": "pKJNEvAfQfcr"
      }
    },
    {
      "cell_type": "code",
      "source": [
        "print(\"Score for test data: \", model.score(X_test, y_test))\n",
        "print(\"Score for train data: \", model.score(X_train, y_train))\n",
        "print(\"Score for all data: \", model.score(X, y))"
      ],
      "metadata": {
        "id": "pwpYuzX9QMCb",
        "colab": {
          "base_uri": "https://localhost:8080/"
        },
        "outputId": "320f09e9-5e30-48e2-e989-320d73a4bf6c"
      },
      "execution_count": null,
      "outputs": [
        {
          "output_type": "stream",
          "name": "stdout",
          "text": [
            "Score for test data:  0.9992199225008193\n",
            "Score for train data:  0.9980784334148968\n",
            "Score for all data:  0.9982958623945656\n"
          ]
        }
      ]
    },
    {
      "cell_type": "code",
      "source": [
        ""
      ],
      "metadata": {
        "id": "tKMF_aX2Q8hn"
      },
      "execution_count": null,
      "outputs": []
    }
  ]
}